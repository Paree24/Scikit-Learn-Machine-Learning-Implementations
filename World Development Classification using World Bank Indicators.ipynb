{
 "cells": [
  {
   "cell_type": "markdown",
   "metadata": {},
   "source": [
    "# World Development Metrics"
   ]
  },
  {
   "cell_type": "markdown",
   "metadata": {},
   "source": [
    "## World Bank\n",
    "The World Bank is an international financial institution that provides loans to countries of the world for capital projects. It comprises two institutions: the International Bank for Reconstruction and Development, and the International Development Association. The World Bank is a component of the World Bank Group."
   ]
  },
  {
   "cell_type": "markdown",
   "metadata": {},
   "source": [
    "### Population\n",
    "\n",
    "A population is the number of living things that live together in the same place. A city's population is the number of people living in that city. These people are called inhabitants or residents.\n",
    "\n",
    "### Population Density\n",
    "\n",
    "Population Density is the measure of number of people living in a square kilometre of area\n",
    "\n",
    "### GDP Nominal\n",
    "\n",
    "Gross domestic product (GDP) is the market value of all final goods and services from a nation in a given year. Countries are sorted by nominal GDP estimates from financial and statistical institutions, which are calculated at market or government official exchange rates.\n",
    "\n",
    "\n",
    "### Literacy Rate\n",
    "\n",
    "Total number of literate persons in a given age group, expressed as a percentage of the total population in that age group. The adult literacy rate measures literacy among persons aged 15 years and above, and the youth literacy rate measures literacy among persons aged 15 to 24 years.\n",
    "\n",
    "### Infant Mortality Rate\n",
    "\n",
    "Infant mortality rate (IMR) is the number of deaths per 1,000 live births of children under one year of age. The rate for a given region is the number of children dying under one year of age, divided by the number of live births during the year, multiplied by 1,000."
   ]
  },
  {
   "cell_type": "markdown",
   "metadata": {},
   "source": [
    "# Data Preparation and Importing"
   ]
  },
  {
   "cell_type": "code",
   "execution_count": 1,
   "metadata": {},
   "outputs": [],
   "source": [
    "import numpy as np\n",
    "import pandas as pd\n",
    "import matplotlib.pyplot as plt\n",
    "import seaborn as sns"
   ]
  },
  {
   "cell_type": "code",
   "execution_count": 2,
   "metadata": {},
   "outputs": [],
   "source": [
    "data=pd.read_excel(r\"C:\\Users\\PareeKatti\\Machine Learning\\2018 Country classification Worldbank.xlsx\")"
   ]
  },
  {
   "cell_type": "code",
   "execution_count": 3,
   "metadata": {},
   "outputs": [
    {
     "data": {
      "text/html": [
       "<div>\n",
       "<style scoped>\n",
       "    .dataframe tbody tr th:only-of-type {\n",
       "        vertical-align: middle;\n",
       "    }\n",
       "\n",
       "    .dataframe tbody tr th {\n",
       "        vertical-align: top;\n",
       "    }\n",
       "\n",
       "    .dataframe thead th {\n",
       "        text-align: right;\n",
       "    }\n",
       "</style>\n",
       "<table border=\"1\" class=\"dataframe\">\n",
       "  <thead>\n",
       "    <tr style=\"text-align: right;\">\n",
       "      <th></th>\n",
       "      <th>Population</th>\n",
       "      <th>Area (sq. mi.)</th>\n",
       "      <th>Pop. Density</th>\n",
       "      <th>GDP ($ per capita)</th>\n",
       "      <th>Literacy (%)</th>\n",
       "      <th>Infant mortality</th>\n",
       "      <th>Development Index</th>\n",
       "    </tr>\n",
       "  </thead>\n",
       "  <tbody>\n",
       "    <tr>\n",
       "      <th>0</th>\n",
       "      <td>9944201</td>\n",
       "      <td>1284000</td>\n",
       "      <td>7.7</td>\n",
       "      <td>1200</td>\n",
       "      <td>47.5</td>\n",
       "      <td>93.82</td>\n",
       "      <td>2</td>\n",
       "    </tr>\n",
       "    <tr>\n",
       "      <th>1</th>\n",
       "      <td>5450661</td>\n",
       "      <td>43094</td>\n",
       "      <td>126.5</td>\n",
       "      <td>31100</td>\n",
       "      <td>100.0</td>\n",
       "      <td>4.56</td>\n",
       "      <td>4</td>\n",
       "    </tr>\n",
       "    <tr>\n",
       "      <th>2</th>\n",
       "      <td>26783383</td>\n",
       "      <td>437072</td>\n",
       "      <td>61.3</td>\n",
       "      <td>1500</td>\n",
       "      <td>40.4</td>\n",
       "      <td>50.25</td>\n",
       "      <td>2</td>\n",
       "    </tr>\n",
       "    <tr>\n",
       "      <th>3</th>\n",
       "      <td>9439</td>\n",
       "      <td>102</td>\n",
       "      <td>92.5</td>\n",
       "      <td>3400</td>\n",
       "      <td>97.0</td>\n",
       "      <td>7.35</td>\n",
       "      <td>4</td>\n",
       "    </tr>\n",
       "    <tr>\n",
       "      <th>4</th>\n",
       "      <td>3431932</td>\n",
       "      <td>176220</td>\n",
       "      <td>19.5</td>\n",
       "      <td>12800</td>\n",
       "      <td>98.0</td>\n",
       "      <td>11.95</td>\n",
       "      <td>3</td>\n",
       "    </tr>\n",
       "  </tbody>\n",
       "</table>\n",
       "</div>"
      ],
      "text/plain": [
       "   Population  Area (sq. mi.)  Pop. Density   GDP ($ per capita)  \\\n",
       "0     9944201         1284000            7.7                1200   \n",
       "1     5450661           43094          126.5               31100   \n",
       "2    26783383          437072           61.3                1500   \n",
       "3        9439             102           92.5                3400   \n",
       "4     3431932          176220           19.5               12800   \n",
       "\n",
       "   Literacy (%)  Infant mortality   Development Index  \n",
       "0          47.5              93.82                  2  \n",
       "1         100.0               4.56                  4  \n",
       "2          40.4              50.25                  2  \n",
       "3          97.0               7.35                  4  \n",
       "4          98.0              11.95                  3  "
      ]
     },
     "execution_count": 3,
     "metadata": {},
     "output_type": "execute_result"
    }
   ],
   "source": [
    "data.head()"
   ]
  },
  {
   "cell_type": "code",
   "execution_count": 4,
   "metadata": {},
   "outputs": [
    {
     "data": {
      "text/plain": [
       "(225, 7)"
      ]
     },
     "execution_count": 4,
     "metadata": {},
     "output_type": "execute_result"
    }
   ],
   "source": [
    "data.shape"
   ]
  },
  {
   "cell_type": "code",
   "execution_count": 5,
   "metadata": {},
   "outputs": [
    {
     "data": {
      "text/plain": [
       "1575"
      ]
     },
     "execution_count": 5,
     "metadata": {},
     "output_type": "execute_result"
    }
   ],
   "source": [
    "data.size"
   ]
  },
  {
   "cell_type": "code",
   "execution_count": 6,
   "metadata": {},
   "outputs": [
    {
     "data": {
      "text/plain": [
       "Index(['Population', 'Area (sq. mi.)', 'Pop. Density ', 'GDP ($ per capita)',\n",
       "       'Literacy (%)', 'Infant mortality ', 'Development Index'],\n",
       "      dtype='object')"
      ]
     },
     "execution_count": 6,
     "metadata": {},
     "output_type": "execute_result"
    }
   ],
   "source": [
    "data.keys()"
   ]
  },
  {
   "cell_type": "markdown",
   "metadata": {},
   "source": [
    "# Data Visualization"
   ]
  },
  {
   "cell_type": "code",
   "execution_count": 7,
   "metadata": {},
   "outputs": [
    {
     "data": {
      "text/plain": [
       "<matplotlib.axes._subplots.AxesSubplot at 0x1b8618287f0>"
      ]
     },
     "execution_count": 7,
     "metadata": {},
     "output_type": "execute_result"
    },
    {
     "data": {
      "image/png": "[encoded data removed]",
      "text/plain": [
       "<matplotlib.figure.Figure at 0x1b861828eb8>"
      ]
     },
     "metadata": {
      "needs_background": "light"
     },
     "output_type": "display_data"
    }
   ],
   "source": [
    "plt.title(\"Distribution of Income Index\")\n",
    "sns.countplot('Development Index',hue='Development Index',data=data,palette='Blues')"
   ]
  },
  {
   "cell_type": "code",
   "execution_count": 8,
   "metadata": {},
   "outputs": [
    {
     "data": {
      "text/plain": [
       "<matplotlib.axes._subplots.AxesSubplot at 0x1b86185b358>"
      ]
     },
     "execution_count": 8,
     "metadata": {},
     "output_type": "execute_result"
    },
    {
     "data": {
      "image/png": "[encoded data removed]",
      "text/plain": [
       "<matplotlib.figure.Figure at 0x1b8618698d0>"
      ]
     },
     "metadata": {},
     "output_type": "display_data"
    }
   ],
   "source": [
    "plt.title(\"Pie Chart of Distribution of Income Index\")\n",
    "data['Development Index'].value_counts().plot.pie()"
   ]
  },
  {
   "cell_type": "code",
   "execution_count": 9,
   "metadata": {},
   "outputs": [
    {
     "data": {
      "text/plain": [
       "<seaborn.axisgrid.FacetGrid at 0x1b86198a748>"
      ]
     },
     "execution_count": 9,
     "metadata": {},
     "output_type": "execute_result"
    },
    {
     "data": {
      "image/png": "[encoded data removed]",
      "text/plain": [
       "<matplotlib.figure.Figure at 0x1b8619a6be0>"
      ]
     },
     "metadata": {
      "needs_background": "light"
     },
     "output_type": "display_data"
    }
   ],
   "source": [
    "sns.lmplot(x='Development Index',y='Population',hue='Development Index',data=data,fit_reg=True)"
   ]
  },
  {
   "cell_type": "code",
   "execution_count": 10,
   "metadata": {},
   "outputs": [
    {
     "data": {
      "text/plain": [
       "<seaborn.axisgrid.FacetGrid at 0x1b861a8b128>"
      ]
     },
     "execution_count": 10,
     "metadata": {},
     "output_type": "execute_result"
    },
    {
     "data": {
      "image/png": "[encoded data removed]",
      "text/plain": [
       "<matplotlib.figure.Figure at 0x1b861a82828>"
      ]
     },
     "metadata": {
      "needs_background": "light"
     },
     "output_type": "display_data"
    }
   ],
   "source": [
    "sns.lmplot(x='Development Index',y='Area (sq. mi.)',hue='Development Index',data=data,fit_reg=True)"
   ]
  },
  {
   "cell_type": "code",
   "execution_count": 11,
   "metadata": {},
   "outputs": [
    {
     "data": {
      "text/plain": [
       "<seaborn.axisgrid.FacetGrid at 0x1b861ad0550>"
      ]
     },
     "execution_count": 11,
     "metadata": {},
     "output_type": "execute_result"
    },
    {
     "data": {
      "image/png": "[encoded data removed]",
      "text/plain": [
       "<matplotlib.figure.Figure at 0x1b861bfa9e8>"
      ]
     },
     "metadata": {
      "needs_background": "light"
     },
     "output_type": "display_data"
    }
   ],
   "source": [
    "sns.lmplot(x='Development Index',y='Pop. Density ',hue='Development Index',data=data,fit_reg=True)"
   ]
  },
  {
   "cell_type": "code",
   "execution_count": 12,
   "metadata": {},
   "outputs": [
    {
     "data": {
      "text/plain": [
       "<seaborn.axisgrid.FacetGrid at 0x1b861c83198>"
      ]
     },
     "execution_count": 12,
     "metadata": {},
     "output_type": "execute_result"
    },
    {
     "data": {
      "image/png": "[encoded data removed]",
      "text/plain": [
       "<matplotlib.figure.Figure at 0x1b861c830f0>"
      ]
     },
     "metadata": {
      "needs_background": "light"
     },
     "output_type": "display_data"
    }
   ],
   "source": [
    "sns.lmplot(x='Development Index',y='GDP ($ per capita)',hue='Development Index',data=data,fit_reg=True)"
   ]
  },
  {
   "cell_type": "code",
   "execution_count": 13,
   "metadata": {},
   "outputs": [
    {
     "data": {
      "text/plain": [
       "<seaborn.axisgrid.FacetGrid at 0x1ed988a75f8>"
      ]
     },
     "execution_count": 13,
     "metadata": {},
     "output_type": "execute_result"
    },
    {
     "data": {
      "image/png": "[encoded data removed]",
      "text/plain": [
       "<matplotlib.figure.Figure at 0x1ed983f5278>"
      ]
     },
     "metadata": {
      "needs_background": "light"
     },
     "output_type": "display_data"
    }
   ],
   "source": [
    "sns.lmplot(x='Development Index',y='Literacy (%)',hue='Development Index',data=data,fit_reg=False)"
   ]
  },
  {
   "cell_type": "code",
   "execution_count": 14,
   "metadata": {},
   "outputs": [
    {
     "data": {
      "text/plain": [
       "<seaborn.axisgrid.FacetGrid at 0x1ed988cfba8>"
      ]
     },
     "execution_count": 14,
     "metadata": {},
     "output_type": "execute_result"
    },
    {
     "data": {
      "image/png": "[encoded data removed]",
      "text/plain": [
       "<matplotlib.figure.Figure at 0x1ed988cfa90>"
      ]
     },
     "metadata": {
      "needs_background": "light"
     },
     "output_type": "display_data"
    }
   ],
   "source": [
    "sns.lmplot(x='Development Index',y='Infant mortality ',hue='Development Index',data=data,fit_reg=True)"
   ]
  },
  {
   "cell_type": "markdown",
   "metadata": {},
   "source": [
    "# Data Seperation and Splitting"
   ]
  },
  {
   "cell_type": "code",
   "execution_count": 15,
   "metadata": {},
   "outputs": [],
   "source": [
    "inputdata=data.iloc[:,:6]"
   ]
  },
  {
   "cell_type": "code",
   "execution_count": 16,
   "metadata": {},
   "outputs": [
    {
     "data": {
      "text/html": [
       "<div>\n",
       "<style scoped>\n",
       "    .dataframe tbody tr th:only-of-type {\n",
       "        vertical-align: middle;\n",
       "    }\n",
       "\n",
       "    .dataframe tbody tr th {\n",
       "        vertical-align: top;\n",
       "    }\n",
       "\n",
       "    .dataframe thead th {\n",
       "        text-align: right;\n",
       "    }\n",
       "</style>\n",
       "<table border=\"1\" class=\"dataframe\">\n",
       "  <thead>\n",
       "    <tr style=\"text-align: right;\">\n",
       "      <th></th>\n",
       "      <th>Population</th>\n",
       "      <th>Area (sq. mi.)</th>\n",
       "      <th>Pop. Density</th>\n",
       "      <th>GDP ($ per capita)</th>\n",
       "      <th>Literacy (%)</th>\n",
       "      <th>Infant mortality</th>\n",
       "    </tr>\n",
       "  </thead>\n",
       "  <tbody>\n",
       "    <tr>\n",
       "      <th>0</th>\n",
       "      <td>9944201</td>\n",
       "      <td>1284000</td>\n",
       "      <td>7.7</td>\n",
       "      <td>1200</td>\n",
       "      <td>47.5</td>\n",
       "      <td>93.82</td>\n",
       "    </tr>\n",
       "    <tr>\n",
       "      <th>1</th>\n",
       "      <td>5450661</td>\n",
       "      <td>43094</td>\n",
       "      <td>126.5</td>\n",
       "      <td>31100</td>\n",
       "      <td>100.0</td>\n",
       "      <td>4.56</td>\n",
       "    </tr>\n",
       "    <tr>\n",
       "      <th>2</th>\n",
       "      <td>26783383</td>\n",
       "      <td>437072</td>\n",
       "      <td>61.3</td>\n",
       "      <td>1500</td>\n",
       "      <td>40.4</td>\n",
       "      <td>50.25</td>\n",
       "    </tr>\n",
       "    <tr>\n",
       "      <th>3</th>\n",
       "      <td>9439</td>\n",
       "      <td>102</td>\n",
       "      <td>92.5</td>\n",
       "      <td>3400</td>\n",
       "      <td>97.0</td>\n",
       "      <td>7.35</td>\n",
       "    </tr>\n",
       "    <tr>\n",
       "      <th>4</th>\n",
       "      <td>3431932</td>\n",
       "      <td>176220</td>\n",
       "      <td>19.5</td>\n",
       "      <td>12800</td>\n",
       "      <td>98.0</td>\n",
       "      <td>11.95</td>\n",
       "    </tr>\n",
       "  </tbody>\n",
       "</table>\n",
       "</div>"
      ],
      "text/plain": [
       "   Population  Area (sq. mi.)  Pop. Density   GDP ($ per capita)  \\\n",
       "0     9944201         1284000            7.7                1200   \n",
       "1     5450661           43094          126.5               31100   \n",
       "2    26783383          437072           61.3                1500   \n",
       "3        9439             102           92.5                3400   \n",
       "4     3431932          176220           19.5               12800   \n",
       "\n",
       "   Literacy (%)  Infant mortality   \n",
       "0          47.5              93.82  \n",
       "1         100.0               4.56  \n",
       "2          40.4              50.25  \n",
       "3          97.0               7.35  \n",
       "4          98.0              11.95  "
      ]
     },
     "execution_count": 16,
     "metadata": {},
     "output_type": "execute_result"
    }
   ],
   "source": [
    "inputdata.head()"
   ]
  },
  {
   "cell_type": "code",
   "execution_count": 17,
   "metadata": {},
   "outputs": [],
   "source": [
    "outputdata=data.iloc[:,6:]"
   ]
  },
  {
   "cell_type": "code",
   "execution_count": 18,
   "metadata": {},
   "outputs": [
    {
     "data": {
      "text/html": [
       "<div>\n",
       "<style scoped>\n",
       "    .dataframe tbody tr th:only-of-type {\n",
       "        vertical-align: middle;\n",
       "    }\n",
       "\n",
       "    .dataframe tbody tr th {\n",
       "        vertical-align: top;\n",
       "    }\n",
       "\n",
       "    .dataframe thead th {\n",
       "        text-align: right;\n",
       "    }\n",
       "</style>\n",
       "<table border=\"1\" class=\"dataframe\">\n",
       "  <thead>\n",
       "    <tr style=\"text-align: right;\">\n",
       "      <th></th>\n",
       "      <th>Development Index</th>\n",
       "    </tr>\n",
       "  </thead>\n",
       "  <tbody>\n",
       "    <tr>\n",
       "      <th>0</th>\n",
       "      <td>2</td>\n",
       "    </tr>\n",
       "    <tr>\n",
       "      <th>1</th>\n",
       "      <td>4</td>\n",
       "    </tr>\n",
       "    <tr>\n",
       "      <th>2</th>\n",
       "      <td>2</td>\n",
       "    </tr>\n",
       "    <tr>\n",
       "      <th>3</th>\n",
       "      <td>4</td>\n",
       "    </tr>\n",
       "    <tr>\n",
       "      <th>4</th>\n",
       "      <td>3</td>\n",
       "    </tr>\n",
       "  </tbody>\n",
       "</table>\n",
       "</div>"
      ],
      "text/plain": [
       "   Development Index\n",
       "0                  2\n",
       "1                  4\n",
       "2                  2\n",
       "3                  4\n",
       "4                  3"
      ]
     },
     "execution_count": 18,
     "metadata": {},
     "output_type": "execute_result"
    }
   ],
   "source": [
    "outputdata.head()"
   ]
  },
  {
   "cell_type": "code",
   "execution_count": 19,
   "metadata": {},
   "outputs": [
    {
     "data": {
      "text/plain": [
       "pandas.core.frame.DataFrame"
      ]
     },
     "execution_count": 19,
     "metadata": {},
     "output_type": "execute_result"
    }
   ],
   "source": [
    "type(inputdata)"
   ]
  },
  {
   "cell_type": "code",
   "execution_count": 20,
   "metadata": {},
   "outputs": [
    {
     "data": {
      "text/plain": [
       "pandas.core.frame.DataFrame"
      ]
     },
     "execution_count": 20,
     "metadata": {},
     "output_type": "execute_result"
    }
   ],
   "source": [
    "type(outputdata)"
   ]
  },
  {
   "cell_type": "code",
   "execution_count": 21,
   "metadata": {},
   "outputs": [
    {
     "data": {
      "text/plain": [
       "(225, 6)"
      ]
     },
     "execution_count": 21,
     "metadata": {},
     "output_type": "execute_result"
    }
   ],
   "source": [
    "inputdata.shape"
   ]
  },
  {
   "cell_type": "code",
   "execution_count": 22,
   "metadata": {},
   "outputs": [
    {
     "data": {
      "text/plain": [
       "(225, 1)"
      ]
     },
     "execution_count": 22,
     "metadata": {},
     "output_type": "execute_result"
    }
   ],
   "source": [
    "outputdata.shape"
   ]
  },
  {
   "cell_type": "code",
   "execution_count": 23,
   "metadata": {},
   "outputs": [],
   "source": [
    "inputtrain=inputdata[:200]"
   ]
  },
  {
   "cell_type": "code",
   "execution_count": 24,
   "metadata": {},
   "outputs": [],
   "source": [
    "inputtest=inputdata[200:]"
   ]
  },
  {
   "cell_type": "code",
   "execution_count": 25,
   "metadata": {},
   "outputs": [],
   "source": [
    "outputtrain=outputdata[:200]"
   ]
  },
  {
   "cell_type": "code",
   "execution_count": 26,
   "metadata": {},
   "outputs": [],
   "source": [
    "outputtest=outputdata[200:]"
   ]
  },
  {
   "cell_type": "code",
   "execution_count": 27,
   "metadata": {},
   "outputs": [
    {
     "data": {
      "text/html": [
       "<div>\n",
       "<style scoped>\n",
       "    .dataframe tbody tr th:only-of-type {\n",
       "        vertical-align: middle;\n",
       "    }\n",
       "\n",
       "    .dataframe tbody tr th {\n",
       "        vertical-align: top;\n",
       "    }\n",
       "\n",
       "    .dataframe thead th {\n",
       "        text-align: right;\n",
       "    }\n",
       "</style>\n",
       "<table border=\"1\" class=\"dataframe\">\n",
       "  <thead>\n",
       "    <tr style=\"text-align: right;\">\n",
       "      <th></th>\n",
       "      <th>Population</th>\n",
       "      <th>Area (sq. mi.)</th>\n",
       "      <th>Pop. Density</th>\n",
       "      <th>GDP ($ per capita)</th>\n",
       "      <th>Literacy (%)</th>\n",
       "      <th>Infant mortality</th>\n",
       "    </tr>\n",
       "  </thead>\n",
       "  <tbody>\n",
       "    <tr>\n",
       "      <th>0</th>\n",
       "      <td>9944201</td>\n",
       "      <td>1284000</td>\n",
       "      <td>7.7</td>\n",
       "      <td>1200</td>\n",
       "      <td>47.5</td>\n",
       "      <td>93.82</td>\n",
       "    </tr>\n",
       "    <tr>\n",
       "      <th>1</th>\n",
       "      <td>5450661</td>\n",
       "      <td>43094</td>\n",
       "      <td>126.5</td>\n",
       "      <td>31100</td>\n",
       "      <td>100.0</td>\n",
       "      <td>4.56</td>\n",
       "    </tr>\n",
       "    <tr>\n",
       "      <th>2</th>\n",
       "      <td>26783383</td>\n",
       "      <td>437072</td>\n",
       "      <td>61.3</td>\n",
       "      <td>1500</td>\n",
       "      <td>40.4</td>\n",
       "      <td>50.25</td>\n",
       "    </tr>\n",
       "    <tr>\n",
       "      <th>3</th>\n",
       "      <td>9439</td>\n",
       "      <td>102</td>\n",
       "      <td>92.5</td>\n",
       "      <td>3400</td>\n",
       "      <td>97.0</td>\n",
       "      <td>7.35</td>\n",
       "    </tr>\n",
       "    <tr>\n",
       "      <th>4</th>\n",
       "      <td>3431932</td>\n",
       "      <td>176220</td>\n",
       "      <td>19.5</td>\n",
       "      <td>12800</td>\n",
       "      <td>98.0</td>\n",
       "      <td>11.95</td>\n",
       "    </tr>\n",
       "    <tr>\n",
       "      <th>5</th>\n",
       "      <td>2050554</td>\n",
       "      <td>25333</td>\n",
       "      <td>80.9</td>\n",
       "      <td>6700</td>\n",
       "      <td>99.0</td>\n",
       "      <td>10.09</td>\n",
       "    </tr>\n",
       "    <tr>\n",
       "      <th>6</th>\n",
       "      <td>33098932</td>\n",
       "      <td>9984670</td>\n",
       "      <td>3.3</td>\n",
       "      <td>29800</td>\n",
       "      <td>97.0</td>\n",
       "      <td>4.75</td>\n",
       "    </tr>\n",
       "    <tr>\n",
       "      <th>7</th>\n",
       "      <td>47246</td>\n",
       "      <td>1399</td>\n",
       "      <td>33.8</td>\n",
       "      <td>22000</td>\n",
       "      <td>99.0</td>\n",
       "      <td>6.24</td>\n",
       "    </tr>\n",
       "    <tr>\n",
       "      <th>8</th>\n",
       "      <td>453125</td>\n",
       "      <td>28</td>\n",
       "      <td>16183.0</td>\n",
       "      <td>19400</td>\n",
       "      <td>94.5</td>\n",
       "      <td>4.39</td>\n",
       "    </tr>\n",
       "    <tr>\n",
       "      <th>9</th>\n",
       "      <td>44187637</td>\n",
       "      <td>1219912</td>\n",
       "      <td>36.2</td>\n",
       "      <td>10700</td>\n",
       "      <td>86.4</td>\n",
       "      <td>61.81</td>\n",
       "    </tr>\n",
       "    <tr>\n",
       "      <th>10</th>\n",
       "      <td>303770</td>\n",
       "      <td>13940</td>\n",
       "      <td>21.8</td>\n",
       "      <td>16700</td>\n",
       "      <td>95.6</td>\n",
       "      <td>25.21</td>\n",
       "    </tr>\n",
       "    <tr>\n",
       "      <th>11</th>\n",
       "      <td>13547510</td>\n",
       "      <td>283560</td>\n",
       "      <td>47.8</td>\n",
       "      <td>3300</td>\n",
       "      <td>92.5</td>\n",
       "      <td>23.66</td>\n",
       "    </tr>\n",
       "    <tr>\n",
       "      <th>12</th>\n",
       "      <td>28302603</td>\n",
       "      <td>1285220</td>\n",
       "      <td>22.0</td>\n",
       "      <td>5100</td>\n",
       "      <td>90.9</td>\n",
       "      <td>31.94</td>\n",
       "    </tr>\n",
       "    <tr>\n",
       "      <th>13</th>\n",
       "      <td>274578</td>\n",
       "      <td>4167</td>\n",
       "      <td>65.9</td>\n",
       "      <td>17500</td>\n",
       "      <td>98.0</td>\n",
       "      <td>8.44</td>\n",
       "    </tr>\n",
       "    <tr>\n",
       "      <th>14</th>\n",
       "      <td>34707817</td>\n",
       "      <td>582650</td>\n",
       "      <td>59.6</td>\n",
       "      <td>1000</td>\n",
       "      <td>85.1</td>\n",
       "      <td>61.47</td>\n",
       "    </tr>\n",
       "    <tr>\n",
       "      <th>15</th>\n",
       "      <td>40397842</td>\n",
       "      <td>504782</td>\n",
       "      <td>80.0</td>\n",
       "      <td>22000</td>\n",
       "      <td>97.9</td>\n",
       "      <td>4.42</td>\n",
       "    </tr>\n",
       "    <tr>\n",
       "      <th>16</th>\n",
       "      <td>168458</td>\n",
       "      <td>616</td>\n",
       "      <td>273.5</td>\n",
       "      <td>5400</td>\n",
       "      <td>67.0</td>\n",
       "      <td>13.53</td>\n",
       "    </tr>\n",
       "    <tr>\n",
       "      <th>17</th>\n",
       "      <td>28287147</td>\n",
       "      <td>147181</td>\n",
       "      <td>192.2</td>\n",
       "      <td>1400</td>\n",
       "      <td>45.2</td>\n",
       "      <td>66.98</td>\n",
       "    </tr>\n",
       "    <tr>\n",
       "      <th>18</th>\n",
       "      <td>82459</td>\n",
       "      <td>477</td>\n",
       "      <td>172.9</td>\n",
       "      <td>12500</td>\n",
       "      <td>97.0</td>\n",
       "      <td>7.11</td>\n",
       "    </tr>\n",
       "    <tr>\n",
       "      <th>19</th>\n",
       "      <td>21456188</td>\n",
       "      <td>527970</td>\n",
       "      <td>40.6</td>\n",
       "      <td>800</td>\n",
       "      <td>50.2</td>\n",
       "      <td>61.50</td>\n",
       "    </tr>\n",
       "    <tr>\n",
       "      <th>20</th>\n",
       "      <td>6352117</td>\n",
       "      <td>20770</td>\n",
       "      <td>305.8</td>\n",
       "      <td>19800</td>\n",
       "      <td>95.4</td>\n",
       "      <td>7.03</td>\n",
       "    </tr>\n",
       "    <tr>\n",
       "      <th>21</th>\n",
       "      <td>10175014</td>\n",
       "      <td>163610</td>\n",
       "      <td>62.2</td>\n",
       "      <td>6900</td>\n",
       "      <td>74.2</td>\n",
       "      <td>24.77</td>\n",
       "    </tr>\n",
       "    <tr>\n",
       "      <th>22</th>\n",
       "      <td>82422299</td>\n",
       "      <td>357021</td>\n",
       "      <td>230.9</td>\n",
       "      <td>27600</td>\n",
       "      <td>99.0</td>\n",
       "      <td>4.16</td>\n",
       "    </tr>\n",
       "    <tr>\n",
       "      <th>23</th>\n",
       "      <td>8863338</td>\n",
       "      <td>637657</td>\n",
       "      <td>13.9</td>\n",
       "      <td>500</td>\n",
       "      <td>37.8</td>\n",
       "      <td>116.70</td>\n",
       "    </tr>\n",
       "    <tr>\n",
       "      <th>24</th>\n",
       "      <td>1442029</td>\n",
       "      <td>36120</td>\n",
       "      <td>39.9</td>\n",
       "      <td>800</td>\n",
       "      <td>42.4</td>\n",
       "      <td>107.17</td>\n",
       "    </tr>\n",
       "    <tr>\n",
       "      <th>25</th>\n",
       "      <td>43593035</td>\n",
       "      <td>1138910</td>\n",
       "      <td>38.3</td>\n",
       "      <td>6300</td>\n",
       "      <td>92.5</td>\n",
       "      <td>20.97</td>\n",
       "    </tr>\n",
       "    <tr>\n",
       "      <th>26</th>\n",
       "      <td>11382820</td>\n",
       "      <td>110860</td>\n",
       "      <td>102.7</td>\n",
       "      <td>2900</td>\n",
       "      <td>97.0</td>\n",
       "      <td>6.33</td>\n",
       "    </tr>\n",
       "    <tr>\n",
       "      <th>27</th>\n",
       "      <td>6005250</td>\n",
       "      <td>71740</td>\n",
       "      <td>83.7</td>\n",
       "      <td>500</td>\n",
       "      <td>31.4</td>\n",
       "      <td>143.64</td>\n",
       "    </tr>\n",
       "    <tr>\n",
       "      <th>28</th>\n",
       "      <td>5670544</td>\n",
       "      <td>462840</td>\n",
       "      <td>12.3</td>\n",
       "      <td>2200</td>\n",
       "      <td>64.6</td>\n",
       "      <td>51.45</td>\n",
       "    </tr>\n",
       "    <tr>\n",
       "      <th>29</th>\n",
       "      <td>2044147</td>\n",
       "      <td>825418</td>\n",
       "      <td>2.5</td>\n",
       "      <td>7200</td>\n",
       "      <td>84.0</td>\n",
       "      <td>48.98</td>\n",
       "    </tr>\n",
       "    <tr>\n",
       "      <th>...</th>\n",
       "      <td>...</td>\n",
       "      <td>...</td>\n",
       "      <td>...</td>\n",
       "      <td>...</td>\n",
       "      <td>...</td>\n",
       "      <td>...</td>\n",
       "    </tr>\n",
       "    <tr>\n",
       "      <th>170</th>\n",
       "      <td>33987</td>\n",
       "      <td>160</td>\n",
       "      <td>212.4</td>\n",
       "      <td>25000</td>\n",
       "      <td>100.0</td>\n",
       "      <td>4.70</td>\n",
       "    </tr>\n",
       "    <tr>\n",
       "      <th>171</th>\n",
       "      <td>7326496</td>\n",
       "      <td>112090</td>\n",
       "      <td>65.4</td>\n",
       "      <td>2600</td>\n",
       "      <td>76.2</td>\n",
       "      <td>29.32</td>\n",
       "    </tr>\n",
       "    <tr>\n",
       "      <th>172</th>\n",
       "      <td>4303356</td>\n",
       "      <td>622984</td>\n",
       "      <td>6.9</td>\n",
       "      <td>1100</td>\n",
       "      <td>51.0</td>\n",
       "      <td>91.00</td>\n",
       "    </tr>\n",
       "    <tr>\n",
       "      <th>173</th>\n",
       "      <td>10688058</td>\n",
       "      <td>131940</td>\n",
       "      <td>81.0</td>\n",
       "      <td>20000</td>\n",
       "      <td>97.5</td>\n",
       "      <td>5.53</td>\n",
       "    </tr>\n",
       "    <tr>\n",
       "      <th>174</th>\n",
       "      <td>11987121</td>\n",
       "      <td>196190</td>\n",
       "      <td>61.1</td>\n",
       "      <td>1600</td>\n",
       "      <td>40.2</td>\n",
       "      <td>55.51</td>\n",
       "    </tr>\n",
       "    <tr>\n",
       "      <th>175</th>\n",
       "      <td>298444215</td>\n",
       "      <td>9631420</td>\n",
       "      <td>31.0</td>\n",
       "      <td>37800</td>\n",
       "      <td>97.0</td>\n",
       "      <td>6.50</td>\n",
       "    </tr>\n",
       "    <tr>\n",
       "      <th>176</th>\n",
       "      <td>28195754</td>\n",
       "      <td>236040</td>\n",
       "      <td>119.5</td>\n",
       "      <td>1400</td>\n",
       "      <td>69.9</td>\n",
       "      <td>67.83</td>\n",
       "    </tr>\n",
       "    <tr>\n",
       "      <th>177</th>\n",
       "      <td>2758124</td>\n",
       "      <td>10991</td>\n",
       "      <td>250.9</td>\n",
       "      <td>3900</td>\n",
       "      <td>87.9</td>\n",
       "      <td>12.36</td>\n",
       "    </tr>\n",
       "    <tr>\n",
       "      <th>178</th>\n",
       "      <td>17340702</td>\n",
       "      <td>475440</td>\n",
       "      <td>36.5</td>\n",
       "      <td>1800</td>\n",
       "      <td>79.0</td>\n",
       "      <td>68.26</td>\n",
       "    </tr>\n",
       "    <tr>\n",
       "      <th>179</th>\n",
       "      <td>420979</td>\n",
       "      <td>4033</td>\n",
       "      <td>104.4</td>\n",
       "      <td>1400</td>\n",
       "      <td>76.6</td>\n",
       "      <td>47.77</td>\n",
       "    </tr>\n",
       "    <tr>\n",
       "      <th>180</th>\n",
       "      <td>17654843</td>\n",
       "      <td>322460</td>\n",
       "      <td>54.8</td>\n",
       "      <td>1400</td>\n",
       "      <td>50.9</td>\n",
       "      <td>90.83</td>\n",
       "    </tr>\n",
       "    <tr>\n",
       "      <th>181</th>\n",
       "      <td>31056997</td>\n",
       "      <td>647500</td>\n",
       "      <td>48.0</td>\n",
       "      <td>700</td>\n",
       "      <td>36.0</td>\n",
       "      <td>163.07</td>\n",
       "    </tr>\n",
       "    <tr>\n",
       "      <th>182</th>\n",
       "      <td>245452739</td>\n",
       "      <td>1919440</td>\n",
       "      <td>127.9</td>\n",
       "      <td>3200</td>\n",
       "      <td>87.9</td>\n",
       "      <td>35.60</td>\n",
       "    </tr>\n",
       "    <tr>\n",
       "      <th>183</th>\n",
       "      <td>142893540</td>\n",
       "      <td>17075200</td>\n",
       "      <td>8.4</td>\n",
       "      <td>8900</td>\n",
       "      <td>99.6</td>\n",
       "      <td>15.39</td>\n",
       "    </tr>\n",
       "    <tr>\n",
       "      <th>184</th>\n",
       "      <td>885359</td>\n",
       "      <td>11437</td>\n",
       "      <td>77.4</td>\n",
       "      <td>21500</td>\n",
       "      <td>82.5</td>\n",
       "      <td>18.61</td>\n",
       "    </tr>\n",
       "    <tr>\n",
       "      <th>185</th>\n",
       "      <td>33241259</td>\n",
       "      <td>446550</td>\n",
       "      <td>74.4</td>\n",
       "      <td>4000</td>\n",
       "      <td>51.7</td>\n",
       "      <td>41.62</td>\n",
       "    </tr>\n",
       "    <tr>\n",
       "      <th>186</th>\n",
       "      <td>9396411</td>\n",
       "      <td>88361</td>\n",
       "      <td>106.3</td>\n",
       "      <td>2200</td>\n",
       "      <td>93.0</td>\n",
       "      <td>12.89</td>\n",
       "    </tr>\n",
       "    <tr>\n",
       "      <th>187</th>\n",
       "      <td>3702314</td>\n",
       "      <td>342000</td>\n",
       "      <td>10.8</td>\n",
       "      <td>700</td>\n",
       "      <td>83.8</td>\n",
       "      <td>93.86</td>\n",
       "    </tr>\n",
       "    <tr>\n",
       "      <th>188</th>\n",
       "      <td>70413958</td>\n",
       "      <td>780580</td>\n",
       "      <td>90.2</td>\n",
       "      <td>6700</td>\n",
       "      <td>86.5</td>\n",
       "      <td>41.04</td>\n",
       "    </tr>\n",
       "    <tr>\n",
       "      <th>189</th>\n",
       "      <td>1313973713</td>\n",
       "      <td>9596960</td>\n",
       "      <td>136.9</td>\n",
       "      <td>5000</td>\n",
       "      <td>90.9</td>\n",
       "      <td>24.18</td>\n",
       "    </tr>\n",
       "    <tr>\n",
       "      <th>190</th>\n",
       "      <td>65773</td>\n",
       "      <td>53</td>\n",
       "      <td>1241.0</td>\n",
       "      <td>36000</td>\n",
       "      <td>98.0</td>\n",
       "      <td>8.53</td>\n",
       "    </tr>\n",
       "    <tr>\n",
       "      <th>191</th>\n",
       "      <td>2832224</td>\n",
       "      <td>1564116</td>\n",
       "      <td>1.8</td>\n",
       "      <td>1800</td>\n",
       "      <td>97.8</td>\n",
       "      <td>53.79</td>\n",
       "    </tr>\n",
       "    <tr>\n",
       "      <th>192</th>\n",
       "      <td>27307134</td>\n",
       "      <td>447400</td>\n",
       "      <td>61.0</td>\n",
       "      <td>1700</td>\n",
       "      <td>99.3</td>\n",
       "      <td>71.10</td>\n",
       "    </tr>\n",
       "    <tr>\n",
       "      <th>193</th>\n",
       "      <td>16025</td>\n",
       "      <td>274</td>\n",
       "      <td>58.5</td>\n",
       "      <td>3700</td>\n",
       "      <td>50.0</td>\n",
       "      <td>0.00</td>\n",
       "    </tr>\n",
       "    <tr>\n",
       "      <th>194</th>\n",
       "      <td>60609153</td>\n",
       "      <td>244820</td>\n",
       "      <td>247.6</td>\n",
       "      <td>27700</td>\n",
       "      <td>99.0</td>\n",
       "      <td>5.16</td>\n",
       "    </tr>\n",
       "    <tr>\n",
       "      <th>195</th>\n",
       "      <td>5570129</td>\n",
       "      <td>129494</td>\n",
       "      <td>43.0</td>\n",
       "      <td>2300</td>\n",
       "      <td>67.5</td>\n",
       "      <td>29.11</td>\n",
       "    </tr>\n",
       "    <tr>\n",
       "      <th>196</th>\n",
       "      <td>3102229</td>\n",
       "      <td>212460</td>\n",
       "      <td>14.6</td>\n",
       "      <td>13100</td>\n",
       "      <td>75.8</td>\n",
       "      <td>19.51</td>\n",
       "    </tr>\n",
       "    <tr>\n",
       "      <th>197</th>\n",
       "      <td>56361</td>\n",
       "      <td>2166086</td>\n",
       "      <td>0.0</td>\n",
       "      <td>20000</td>\n",
       "      <td>99.0</td>\n",
       "      <td>15.82</td>\n",
       "    </tr>\n",
       "    <tr>\n",
       "      <th>198</th>\n",
       "      <td>4062235</td>\n",
       "      <td>70280</td>\n",
       "      <td>57.8</td>\n",
       "      <td>29600</td>\n",
       "      <td>98.0</td>\n",
       "      <td>5.39</td>\n",
       "    </tr>\n",
       "    <tr>\n",
       "      <th>199</th>\n",
       "      <td>6940432</td>\n",
       "      <td>1092</td>\n",
       "      <td>6355.7</td>\n",
       "      <td>28800</td>\n",
       "      <td>93.5</td>\n",
       "      <td>2.97</td>\n",
       "    </tr>\n",
       "  </tbody>\n",
       "</table>\n",
       "<p>200 rows × 6 columns</p>\n",
       "</div>"
      ],
      "text/plain": [
       "     Population  Area (sq. mi.)  Pop. Density   GDP ($ per capita)  \\\n",
       "0       9944201         1284000            7.7                1200   \n",
       "1       5450661           43094          126.5               31100   \n",
       "2      26783383          437072           61.3                1500   \n",
       "3          9439             102           92.5                3400   \n",
       "4       3431932          176220           19.5               12800   \n",
       "5       2050554           25333           80.9                6700   \n",
       "6      33098932         9984670            3.3               29800   \n",
       "7         47246            1399           33.8               22000   \n",
       "8        453125              28        16183.0               19400   \n",
       "9      44187637         1219912           36.2               10700   \n",
       "10       303770           13940           21.8               16700   \n",
       "11     13547510          283560           47.8                3300   \n",
       "12     28302603         1285220           22.0                5100   \n",
       "13       274578            4167           65.9               17500   \n",
       "14     34707817          582650           59.6                1000   \n",
       "15     40397842          504782           80.0               22000   \n",
       "16       168458             616          273.5                5400   \n",
       "17     28287147          147181          192.2                1400   \n",
       "18        82459             477          172.9               12500   \n",
       "19     21456188          527970           40.6                 800   \n",
       "20      6352117           20770          305.8               19800   \n",
       "21     10175014          163610           62.2                6900   \n",
       "22     82422299          357021          230.9               27600   \n",
       "23      8863338          637657           13.9                 500   \n",
       "24      1442029           36120           39.9                 800   \n",
       "25     43593035         1138910           38.3                6300   \n",
       "26     11382820          110860          102.7                2900   \n",
       "27      6005250           71740           83.7                 500   \n",
       "28      5670544          462840           12.3                2200   \n",
       "29      2044147          825418            2.5                7200   \n",
       "..          ...             ...            ...                 ...   \n",
       "170       33987             160          212.4               25000   \n",
       "171     7326496          112090           65.4                2600   \n",
       "172     4303356          622984            6.9                1100   \n",
       "173    10688058          131940           81.0               20000   \n",
       "174    11987121          196190           61.1                1600   \n",
       "175   298444215         9631420           31.0               37800   \n",
       "176    28195754          236040          119.5                1400   \n",
       "177     2758124           10991          250.9                3900   \n",
       "178    17340702          475440           36.5                1800   \n",
       "179      420979            4033          104.4                1400   \n",
       "180    17654843          322460           54.8                1400   \n",
       "181    31056997          647500           48.0                 700   \n",
       "182   245452739         1919440          127.9                3200   \n",
       "183   142893540        17075200            8.4                8900   \n",
       "184      885359           11437           77.4               21500   \n",
       "185    33241259          446550           74.4                4000   \n",
       "186     9396411           88361          106.3                2200   \n",
       "187     3702314          342000           10.8                 700   \n",
       "188    70413958          780580           90.2                6700   \n",
       "189  1313973713         9596960          136.9                5000   \n",
       "190       65773              53         1241.0               36000   \n",
       "191     2832224         1564116            1.8                1800   \n",
       "192    27307134          447400           61.0                1700   \n",
       "193       16025             274           58.5                3700   \n",
       "194    60609153          244820          247.6               27700   \n",
       "195     5570129          129494           43.0                2300   \n",
       "196     3102229          212460           14.6               13100   \n",
       "197       56361         2166086            0.0               20000   \n",
       "198     4062235           70280           57.8               29600   \n",
       "199     6940432            1092         6355.7               28800   \n",
       "\n",
       "     Literacy (%)  Infant mortality   \n",
       "0            47.5              93.82  \n",
       "1           100.0               4.56  \n",
       "2            40.4              50.25  \n",
       "3            97.0               7.35  \n",
       "4            98.0              11.95  \n",
       "5            99.0              10.09  \n",
       "6            97.0               4.75  \n",
       "7            99.0               6.24  \n",
       "8            94.5               4.39  \n",
       "9            86.4              61.81  \n",
       "10           95.6              25.21  \n",
       "11           92.5              23.66  \n",
       "12           90.9              31.94  \n",
       "13           98.0               8.44  \n",
       "14           85.1              61.47  \n",
       "15           97.9               4.42  \n",
       "16           67.0              13.53  \n",
       "17           45.2              66.98  \n",
       "18           97.0               7.11  \n",
       "19           50.2              61.50  \n",
       "20           95.4               7.03  \n",
       "21           74.2              24.77  \n",
       "22           99.0               4.16  \n",
       "23           37.8             116.70  \n",
       "24           42.4             107.17  \n",
       "25           92.5              20.97  \n",
       "26           97.0               6.33  \n",
       "27           31.4             143.64  \n",
       "28           64.6              51.45  \n",
       "29           84.0              48.98  \n",
       "..            ...                ...  \n",
       "170         100.0               4.70  \n",
       "171          76.2              29.32  \n",
       "172          51.0              91.00  \n",
       "173          97.5               5.53  \n",
       "174          40.2              55.51  \n",
       "175          97.0               6.50  \n",
       "176          69.9              67.83  \n",
       "177          87.9              12.36  \n",
       "178          79.0              68.26  \n",
       "179          76.6              47.77  \n",
       "180          50.9              90.83  \n",
       "181          36.0             163.07  \n",
       "182          87.9              35.60  \n",
       "183          99.6              15.39  \n",
       "184          82.5              18.61  \n",
       "185          51.7              41.62  \n",
       "186          93.0              12.89  \n",
       "187          83.8              93.86  \n",
       "188          86.5              41.04  \n",
       "189          90.9              24.18  \n",
       "190          98.0               8.53  \n",
       "191          97.8              53.79  \n",
       "192          99.3              71.10  \n",
       "193          50.0               0.00  \n",
       "194          99.0               5.16  \n",
       "195          67.5              29.11  \n",
       "196          75.8              19.51  \n",
       "197          99.0              15.82  \n",
       "198          98.0               5.39  \n",
       "199          93.5               2.97  \n",
       "\n",
       "[200 rows x 6 columns]"
      ]
     },
     "execution_count": 27,
     "metadata": {},
     "output_type": "execute_result"
    }
   ],
   "source": [
    "inputtrain"
   ]
  },
  {
   "cell_type": "code",
   "execution_count": 28,
   "metadata": {},
   "outputs": [
    {
     "data": {
      "text/html": [
       "<div>\n",
       "<style scoped>\n",
       "    .dataframe tbody tr th:only-of-type {\n",
       "        vertical-align: middle;\n",
       "    }\n",
       "\n",
       "    .dataframe tbody tr th {\n",
       "        vertical-align: top;\n",
       "    }\n",
       "\n",
       "    .dataframe thead th {\n",
       "        text-align: right;\n",
       "    }\n",
       "</style>\n",
       "<table border=\"1\" class=\"dataframe\">\n",
       "  <thead>\n",
       "    <tr style=\"text-align: right;\">\n",
       "      <th></th>\n",
       "      <th>Population</th>\n",
       "      <th>Area (sq. mi.)</th>\n",
       "      <th>Pop. Density</th>\n",
       "      <th>GDP ($ per capita)</th>\n",
       "      <th>Literacy (%)</th>\n",
       "      <th>Infant mortality</th>\n",
       "    </tr>\n",
       "  </thead>\n",
       "  <tbody>\n",
       "    <tr>\n",
       "      <th>200</th>\n",
       "      <td>698585</td>\n",
       "      <td>665</td>\n",
       "      <td>1050.5</td>\n",
       "      <td>16900</td>\n",
       "      <td>89.1</td>\n",
       "      <td>17.27</td>\n",
       "    </tr>\n",
       "    <tr>\n",
       "      <th>201</th>\n",
       "      <td>452776</td>\n",
       "      <td>1780</td>\n",
       "      <td>254.4</td>\n",
       "      <td>8000</td>\n",
       "      <td>90.0</td>\n",
       "      <td>8.60</td>\n",
       "    </tr>\n",
       "    <tr>\n",
       "      <th>202</th>\n",
       "      <td>60422</td>\n",
       "      <td>11854</td>\n",
       "      <td>5.1</td>\n",
       "      <td>1600</td>\n",
       "      <td>93.7</td>\n",
       "      <td>29.45</td>\n",
       "    </tr>\n",
       "    <tr>\n",
       "      <th>203</th>\n",
       "      <td>39921833</td>\n",
       "      <td>2766890</td>\n",
       "      <td>14.4</td>\n",
       "      <td>11200</td>\n",
       "      <td>97.1</td>\n",
       "      <td>15.18</td>\n",
       "    </tr>\n",
       "    <tr>\n",
       "      <th>204</th>\n",
       "      <td>2418393</td>\n",
       "      <td>17820</td>\n",
       "      <td>135.7</td>\n",
       "      <td>19000</td>\n",
       "      <td>83.5</td>\n",
       "      <td>9.95</td>\n",
       "    </tr>\n",
       "    <tr>\n",
       "      <th>205</th>\n",
       "      <td>32543</td>\n",
       "      <td>2</td>\n",
       "      <td>16271.5</td>\n",
       "      <td>27000</td>\n",
       "      <td>99.0</td>\n",
       "      <td>5.43</td>\n",
       "    </tr>\n",
       "    <tr>\n",
       "      <th>206</th>\n",
       "      <td>540109</td>\n",
       "      <td>28051</td>\n",
       "      <td>19.3</td>\n",
       "      <td>2700</td>\n",
       "      <td>85.7</td>\n",
       "      <td>85.13</td>\n",
       "    </tr>\n",
       "    <tr>\n",
       "      <th>207</th>\n",
       "      <td>7862944</td>\n",
       "      <td>112620</td>\n",
       "      <td>69.8</td>\n",
       "      <td>1100</td>\n",
       "      <td>40.9</td>\n",
       "      <td>85.00</td>\n",
       "    </tr>\n",
       "    <tr>\n",
       "      <th>208</th>\n",
       "      <td>13013926</td>\n",
       "      <td>118480</td>\n",
       "      <td>109.8</td>\n",
       "      <td>600</td>\n",
       "      <td>62.7</td>\n",
       "      <td>103.32</td>\n",
       "    </tr>\n",
       "    <tr>\n",
       "      <th>209</th>\n",
       "      <td>48846823</td>\n",
       "      <td>98480</td>\n",
       "      <td>496.0</td>\n",
       "      <td>17800</td>\n",
       "      <td>97.9</td>\n",
       "      <td>7.05</td>\n",
       "    </tr>\n",
       "    <tr>\n",
       "      <th>210</th>\n",
       "      <td>3177388</td>\n",
       "      <td>1030700</td>\n",
       "      <td>3.1</td>\n",
       "      <td>1800</td>\n",
       "      <td>41.7</td>\n",
       "      <td>70.89</td>\n",
       "    </tr>\n",
       "    <tr>\n",
       "      <th>211</th>\n",
       "      <td>7026</td>\n",
       "      <td>242</td>\n",
       "      <td>29.0</td>\n",
       "      <td>6900</td>\n",
       "      <td>99.0</td>\n",
       "      <td>7.54</td>\n",
       "    </tr>\n",
       "    <tr>\n",
       "      <th>212</th>\n",
       "      <td>439117</td>\n",
       "      <td>163270</td>\n",
       "      <td>2.7</td>\n",
       "      <td>4000</td>\n",
       "      <td>93.0</td>\n",
       "      <td>23.57</td>\n",
       "    </tr>\n",
       "    <tr>\n",
       "      <th>213</th>\n",
       "      <td>165803560</td>\n",
       "      <td>803940</td>\n",
       "      <td>206.2</td>\n",
       "      <td>2100</td>\n",
       "      <td>45.7</td>\n",
       "      <td>72.44</td>\n",
       "    </tr>\n",
       "    <tr>\n",
       "      <th>214</th>\n",
       "      <td>3585906</td>\n",
       "      <td>65200</td>\n",
       "      <td>55.0</td>\n",
       "      <td>11400</td>\n",
       "      <td>99.6</td>\n",
       "      <td>6.89</td>\n",
       "    </tr>\n",
       "    <tr>\n",
       "      <th>215</th>\n",
       "      <td>10605870</td>\n",
       "      <td>92391</td>\n",
       "      <td>114.8</td>\n",
       "      <td>18000</td>\n",
       "      <td>93.3</td>\n",
       "      <td>5.05</td>\n",
       "    </tr>\n",
       "    <tr>\n",
       "      <th>216</th>\n",
       "      <td>16491461</td>\n",
       "      <td>41526</td>\n",
       "      <td>397.1</td>\n",
       "      <td>28600</td>\n",
       "      <td>99.0</td>\n",
       "      <td>5.04</td>\n",
       "    </tr>\n",
       "    <tr>\n",
       "      <th>217</th>\n",
       "      <td>65409</td>\n",
       "      <td>78</td>\n",
       "      <td>838.6</td>\n",
       "      <td>20000</td>\n",
       "      <td>99.0</td>\n",
       "      <td>4.71</td>\n",
       "    </tr>\n",
       "    <tr>\n",
       "      <th>218</th>\n",
       "      <td>767245</td>\n",
       "      <td>214970</td>\n",
       "      <td>3.6</td>\n",
       "      <td>4000</td>\n",
       "      <td>98.8</td>\n",
       "      <td>33.26</td>\n",
       "    </tr>\n",
       "    <tr>\n",
       "      <th>219</th>\n",
       "      <td>117848</td>\n",
       "      <td>389</td>\n",
       "      <td>303.0</td>\n",
       "      <td>2900</td>\n",
       "      <td>96.0</td>\n",
       "      <td>14.78</td>\n",
       "    </tr>\n",
       "    <tr>\n",
       "      <th>220</th>\n",
       "      <td>74777981</td>\n",
       "      <td>1127127</td>\n",
       "      <td>66.3</td>\n",
       "      <td>700</td>\n",
       "      <td>42.7</td>\n",
       "      <td>95.32</td>\n",
       "    </tr>\n",
       "    <tr>\n",
       "      <th>221</th>\n",
       "      <td>474413</td>\n",
       "      <td>2586</td>\n",
       "      <td>183.5</td>\n",
       "      <td>55100</td>\n",
       "      <td>100.0</td>\n",
       "      <td>4.81</td>\n",
       "    </tr>\n",
       "    <tr>\n",
       "      <th>222</th>\n",
       "      <td>1065842</td>\n",
       "      <td>5128</td>\n",
       "      <td>207.9</td>\n",
       "      <td>9500</td>\n",
       "      <td>98.6</td>\n",
       "      <td>24.31</td>\n",
       "    </tr>\n",
       "    <tr>\n",
       "      <th>223</th>\n",
       "      <td>3042004</td>\n",
       "      <td>111370</td>\n",
       "      <td>27.3</td>\n",
       "      <td>1000</td>\n",
       "      <td>57.5</td>\n",
       "      <td>128.87</td>\n",
       "    </tr>\n",
       "    <tr>\n",
       "      <th>224</th>\n",
       "      <td>22409572</td>\n",
       "      <td>239460</td>\n",
       "      <td>93.6</td>\n",
       "      <td>2200</td>\n",
       "      <td>74.8</td>\n",
       "      <td>51.43</td>\n",
       "    </tr>\n",
       "  </tbody>\n",
       "</table>\n",
       "</div>"
      ],
      "text/plain": [
       "     Population  Area (sq. mi.)  Pop. Density   GDP ($ per capita)  \\\n",
       "200      698585             665         1050.5               16900   \n",
       "201      452776            1780          254.4                8000   \n",
       "202       60422           11854            5.1                1600   \n",
       "203    39921833         2766890           14.4               11200   \n",
       "204     2418393           17820          135.7               19000   \n",
       "205       32543               2        16271.5               27000   \n",
       "206      540109           28051           19.3                2700   \n",
       "207     7862944          112620           69.8                1100   \n",
       "208    13013926          118480          109.8                 600   \n",
       "209    48846823           98480          496.0               17800   \n",
       "210     3177388         1030700            3.1                1800   \n",
       "211        7026             242           29.0                6900   \n",
       "212      439117          163270            2.7                4000   \n",
       "213   165803560          803940          206.2                2100   \n",
       "214     3585906           65200           55.0               11400   \n",
       "215    10605870           92391          114.8               18000   \n",
       "216    16491461           41526          397.1               28600   \n",
       "217       65409              78          838.6               20000   \n",
       "218      767245          214970            3.6                4000   \n",
       "219      117848             389          303.0                2900   \n",
       "220    74777981         1127127           66.3                 700   \n",
       "221      474413            2586          183.5               55100   \n",
       "222     1065842            5128          207.9                9500   \n",
       "223     3042004          111370           27.3                1000   \n",
       "224    22409572          239460           93.6                2200   \n",
       "\n",
       "     Literacy (%)  Infant mortality   \n",
       "200          89.1              17.27  \n",
       "201          90.0               8.60  \n",
       "202          93.7              29.45  \n",
       "203          97.1              15.18  \n",
       "204          83.5               9.95  \n",
       "205          99.0               5.43  \n",
       "206          85.7              85.13  \n",
       "207          40.9              85.00  \n",
       "208          62.7             103.32  \n",
       "209          97.9               7.05  \n",
       "210          41.7              70.89  \n",
       "211          99.0               7.54  \n",
       "212          93.0              23.57  \n",
       "213          45.7              72.44  \n",
       "214          99.6               6.89  \n",
       "215          93.3               5.05  \n",
       "216          99.0               5.04  \n",
       "217          99.0               4.71  \n",
       "218          98.8              33.26  \n",
       "219          96.0              14.78  \n",
       "220          42.7              95.32  \n",
       "221         100.0               4.81  \n",
       "222          98.6              24.31  \n",
       "223          57.5             128.87  \n",
       "224          74.8              51.43  "
      ]
     },
     "execution_count": 28,
     "metadata": {},
     "output_type": "execute_result"
    }
   ],
   "source": [
    "inputtest"
   ]
  },
  {
   "cell_type": "code",
   "execution_count": 29,
   "metadata": {},
   "outputs": [
    {
     "data": {
      "text/html": [
       "<div>\n",
       "<style scoped>\n",
       "    .dataframe tbody tr th:only-of-type {\n",
       "        vertical-align: middle;\n",
       "    }\n",
       "\n",
       "    .dataframe tbody tr th {\n",
       "        vertical-align: top;\n",
       "    }\n",
       "\n",
       "    .dataframe thead th {\n",
       "        text-align: right;\n",
       "    }\n",
       "</style>\n",
       "<table border=\"1\" class=\"dataframe\">\n",
       "  <thead>\n",
       "    <tr style=\"text-align: right;\">\n",
       "      <th></th>\n",
       "      <th>Development Index</th>\n",
       "    </tr>\n",
       "  </thead>\n",
       "  <tbody>\n",
       "    <tr>\n",
       "      <th>0</th>\n",
       "      <td>2</td>\n",
       "    </tr>\n",
       "    <tr>\n",
       "      <th>1</th>\n",
       "      <td>4</td>\n",
       "    </tr>\n",
       "    <tr>\n",
       "      <th>2</th>\n",
       "      <td>2</td>\n",
       "    </tr>\n",
       "    <tr>\n",
       "      <th>3</th>\n",
       "      <td>4</td>\n",
       "    </tr>\n",
       "    <tr>\n",
       "      <th>4</th>\n",
       "      <td>3</td>\n",
       "    </tr>\n",
       "    <tr>\n",
       "      <th>5</th>\n",
       "      <td>3</td>\n",
       "    </tr>\n",
       "    <tr>\n",
       "      <th>6</th>\n",
       "      <td>4</td>\n",
       "    </tr>\n",
       "    <tr>\n",
       "      <th>7</th>\n",
       "      <td>4</td>\n",
       "    </tr>\n",
       "    <tr>\n",
       "      <th>8</th>\n",
       "      <td>4</td>\n",
       "    </tr>\n",
       "    <tr>\n",
       "      <th>9</th>\n",
       "      <td>2</td>\n",
       "    </tr>\n",
       "    <tr>\n",
       "      <th>10</th>\n",
       "      <td>3</td>\n",
       "    </tr>\n",
       "    <tr>\n",
       "      <th>11</th>\n",
       "      <td>3</td>\n",
       "    </tr>\n",
       "    <tr>\n",
       "      <th>12</th>\n",
       "      <td>3</td>\n",
       "    </tr>\n",
       "    <tr>\n",
       "      <th>13</th>\n",
       "      <td>4</td>\n",
       "    </tr>\n",
       "    <tr>\n",
       "      <th>14</th>\n",
       "      <td>2</td>\n",
       "    </tr>\n",
       "    <tr>\n",
       "      <th>15</th>\n",
       "      <td>4</td>\n",
       "    </tr>\n",
       "    <tr>\n",
       "      <th>16</th>\n",
       "      <td>3</td>\n",
       "    </tr>\n",
       "    <tr>\n",
       "      <th>17</th>\n",
       "      <td>2</td>\n",
       "    </tr>\n",
       "    <tr>\n",
       "      <th>18</th>\n",
       "      <td>4</td>\n",
       "    </tr>\n",
       "    <tr>\n",
       "      <th>19</th>\n",
       "      <td>2</td>\n",
       "    </tr>\n",
       "    <tr>\n",
       "      <th>20</th>\n",
       "      <td>4</td>\n",
       "    </tr>\n",
       "    <tr>\n",
       "      <th>21</th>\n",
       "      <td>3</td>\n",
       "    </tr>\n",
       "    <tr>\n",
       "      <th>22</th>\n",
       "      <td>4</td>\n",
       "    </tr>\n",
       "    <tr>\n",
       "      <th>23</th>\n",
       "      <td>1</td>\n",
       "    </tr>\n",
       "    <tr>\n",
       "      <th>24</th>\n",
       "      <td>1</td>\n",
       "    </tr>\n",
       "    <tr>\n",
       "      <th>25</th>\n",
       "      <td>3</td>\n",
       "    </tr>\n",
       "    <tr>\n",
       "      <th>26</th>\n",
       "      <td>4</td>\n",
       "    </tr>\n",
       "    <tr>\n",
       "      <th>27</th>\n",
       "      <td>1</td>\n",
       "    </tr>\n",
       "    <tr>\n",
       "      <th>28</th>\n",
       "      <td>2</td>\n",
       "    </tr>\n",
       "    <tr>\n",
       "      <th>29</th>\n",
       "      <td>3</td>\n",
       "    </tr>\n",
       "    <tr>\n",
       "      <th>...</th>\n",
       "      <td>...</td>\n",
       "    </tr>\n",
       "    <tr>\n",
       "      <th>170</th>\n",
       "      <td>4</td>\n",
       "    </tr>\n",
       "    <tr>\n",
       "      <th>171</th>\n",
       "      <td>3</td>\n",
       "    </tr>\n",
       "    <tr>\n",
       "      <th>172</th>\n",
       "      <td>2</td>\n",
       "    </tr>\n",
       "    <tr>\n",
       "      <th>173</th>\n",
       "      <td>4</td>\n",
       "    </tr>\n",
       "    <tr>\n",
       "      <th>174</th>\n",
       "      <td>2</td>\n",
       "    </tr>\n",
       "    <tr>\n",
       "      <th>175</th>\n",
       "      <td>4</td>\n",
       "    </tr>\n",
       "    <tr>\n",
       "      <th>176</th>\n",
       "      <td>2</td>\n",
       "    </tr>\n",
       "    <tr>\n",
       "      <th>177</th>\n",
       "      <td>3</td>\n",
       "    </tr>\n",
       "    <tr>\n",
       "      <th>178</th>\n",
       "      <td>2</td>\n",
       "    </tr>\n",
       "    <tr>\n",
       "      <th>179</th>\n",
       "      <td>3</td>\n",
       "    </tr>\n",
       "    <tr>\n",
       "      <th>180</th>\n",
       "      <td>2</td>\n",
       "    </tr>\n",
       "    <tr>\n",
       "      <th>181</th>\n",
       "      <td>1</td>\n",
       "    </tr>\n",
       "    <tr>\n",
       "      <th>182</th>\n",
       "      <td>3</td>\n",
       "    </tr>\n",
       "    <tr>\n",
       "      <th>183</th>\n",
       "      <td>3</td>\n",
       "    </tr>\n",
       "    <tr>\n",
       "      <th>184</th>\n",
       "      <td>3</td>\n",
       "    </tr>\n",
       "    <tr>\n",
       "      <th>185</th>\n",
       "      <td>3</td>\n",
       "    </tr>\n",
       "    <tr>\n",
       "      <th>186</th>\n",
       "      <td>3</td>\n",
       "    </tr>\n",
       "    <tr>\n",
       "      <th>187</th>\n",
       "      <td>2</td>\n",
       "    </tr>\n",
       "    <tr>\n",
       "      <th>188</th>\n",
       "      <td>3</td>\n",
       "    </tr>\n",
       "    <tr>\n",
       "      <th>189</th>\n",
       "      <td>3</td>\n",
       "    </tr>\n",
       "    <tr>\n",
       "      <th>190</th>\n",
       "      <td>4</td>\n",
       "    </tr>\n",
       "    <tr>\n",
       "      <th>191</th>\n",
       "      <td>2</td>\n",
       "    </tr>\n",
       "    <tr>\n",
       "      <th>192</th>\n",
       "      <td>2</td>\n",
       "    </tr>\n",
       "    <tr>\n",
       "      <th>193</th>\n",
       "      <td>4</td>\n",
       "    </tr>\n",
       "    <tr>\n",
       "      <th>194</th>\n",
       "      <td>4</td>\n",
       "    </tr>\n",
       "    <tr>\n",
       "      <th>195</th>\n",
       "      <td>3</td>\n",
       "    </tr>\n",
       "    <tr>\n",
       "      <th>196</th>\n",
       "      <td>3</td>\n",
       "    </tr>\n",
       "    <tr>\n",
       "      <th>197</th>\n",
       "      <td>3</td>\n",
       "    </tr>\n",
       "    <tr>\n",
       "      <th>198</th>\n",
       "      <td>4</td>\n",
       "    </tr>\n",
       "    <tr>\n",
       "      <th>199</th>\n",
       "      <td>4</td>\n",
       "    </tr>\n",
       "  </tbody>\n",
       "</table>\n",
       "<p>200 rows × 1 columns</p>\n",
       "</div>"
      ],
      "text/plain": [
       "     Development Index\n",
       "0                    2\n",
       "1                    4\n",
       "2                    2\n",
       "3                    4\n",
       "4                    3\n",
       "5                    3\n",
       "6                    4\n",
       "7                    4\n",
       "8                    4\n",
       "9                    2\n",
       "10                   3\n",
       "11                   3\n",
       "12                   3\n",
       "13                   4\n",
       "14                   2\n",
       "15                   4\n",
       "16                   3\n",
       "17                   2\n",
       "18                   4\n",
       "19                   2\n",
       "20                   4\n",
       "21                   3\n",
       "22                   4\n",
       "23                   1\n",
       "24                   1\n",
       "25                   3\n",
       "26                   4\n",
       "27                   1\n",
       "28                   2\n",
       "29                   3\n",
       "..                 ...\n",
       "170                  4\n",
       "171                  3\n",
       "172                  2\n",
       "173                  4\n",
       "174                  2\n",
       "175                  4\n",
       "176                  2\n",
       "177                  3\n",
       "178                  2\n",
       "179                  3\n",
       "180                  2\n",
       "181                  1\n",
       "182                  3\n",
       "183                  3\n",
       "184                  3\n",
       "185                  3\n",
       "186                  3\n",
       "187                  2\n",
       "188                  3\n",
       "189                  3\n",
       "190                  4\n",
       "191                  2\n",
       "192                  2\n",
       "193                  4\n",
       "194                  4\n",
       "195                  3\n",
       "196                  3\n",
       "197                  3\n",
       "198                  4\n",
       "199                  4\n",
       "\n",
       "[200 rows x 1 columns]"
      ]
     },
     "execution_count": 29,
     "metadata": {},
     "output_type": "execute_result"
    }
   ],
   "source": [
    "outputtrain"
   ]
  },
  {
   "cell_type": "code",
   "execution_count": 30,
   "metadata": {},
   "outputs": [
    {
     "data": {
      "text/html": [
       "<div>\n",
       "<style scoped>\n",
       "    .dataframe tbody tr th:only-of-type {\n",
       "        vertical-align: middle;\n",
       "    }\n",
       "\n",
       "    .dataframe tbody tr th {\n",
       "        vertical-align: top;\n",
       "    }\n",
       "\n",
       "    .dataframe thead th {\n",
       "        text-align: right;\n",
       "    }\n",
       "</style>\n",
       "<table border=\"1\" class=\"dataframe\">\n",
       "  <thead>\n",
       "    <tr style=\"text-align: right;\">\n",
       "      <th></th>\n",
       "      <th>Development Index</th>\n",
       "    </tr>\n",
       "  </thead>\n",
       "  <tbody>\n",
       "    <tr>\n",
       "      <th>200</th>\n",
       "      <td>3</td>\n",
       "    </tr>\n",
       "    <tr>\n",
       "      <th>201</th>\n",
       "      <td>4</td>\n",
       "    </tr>\n",
       "    <tr>\n",
       "      <th>202</th>\n",
       "      <td>3</td>\n",
       "    </tr>\n",
       "    <tr>\n",
       "      <th>203</th>\n",
       "      <td>3</td>\n",
       "    </tr>\n",
       "    <tr>\n",
       "      <th>204</th>\n",
       "      <td>4</td>\n",
       "    </tr>\n",
       "    <tr>\n",
       "      <th>205</th>\n",
       "      <td>4</td>\n",
       "    </tr>\n",
       "    <tr>\n",
       "      <th>206</th>\n",
       "      <td>2</td>\n",
       "    </tr>\n",
       "    <tr>\n",
       "      <th>207</th>\n",
       "      <td>2</td>\n",
       "    </tr>\n",
       "    <tr>\n",
       "      <th>208</th>\n",
       "      <td>1</td>\n",
       "    </tr>\n",
       "    <tr>\n",
       "      <th>209</th>\n",
       "      <td>4</td>\n",
       "    </tr>\n",
       "    <tr>\n",
       "      <th>210</th>\n",
       "      <td>2</td>\n",
       "    </tr>\n",
       "    <tr>\n",
       "      <th>211</th>\n",
       "      <td>4</td>\n",
       "    </tr>\n",
       "    <tr>\n",
       "      <th>212</th>\n",
       "      <td>3</td>\n",
       "    </tr>\n",
       "    <tr>\n",
       "      <th>213</th>\n",
       "      <td>2</td>\n",
       "    </tr>\n",
       "    <tr>\n",
       "      <th>214</th>\n",
       "      <td>4</td>\n",
       "    </tr>\n",
       "    <tr>\n",
       "      <th>215</th>\n",
       "      <td>4</td>\n",
       "    </tr>\n",
       "    <tr>\n",
       "      <th>216</th>\n",
       "      <td>4</td>\n",
       "    </tr>\n",
       "    <tr>\n",
       "      <th>217</th>\n",
       "      <td>4</td>\n",
       "    </tr>\n",
       "    <tr>\n",
       "      <th>218</th>\n",
       "      <td>3</td>\n",
       "    </tr>\n",
       "    <tr>\n",
       "      <th>219</th>\n",
       "      <td>3</td>\n",
       "    </tr>\n",
       "    <tr>\n",
       "      <th>220</th>\n",
       "      <td>2</td>\n",
       "    </tr>\n",
       "    <tr>\n",
       "      <th>221</th>\n",
       "      <td>4</td>\n",
       "    </tr>\n",
       "    <tr>\n",
       "      <th>222</th>\n",
       "      <td>3</td>\n",
       "    </tr>\n",
       "    <tr>\n",
       "      <th>223</th>\n",
       "      <td>1</td>\n",
       "    </tr>\n",
       "    <tr>\n",
       "      <th>224</th>\n",
       "      <td>2</td>\n",
       "    </tr>\n",
       "  </tbody>\n",
       "</table>\n",
       "</div>"
      ],
      "text/plain": [
       "     Development Index\n",
       "200                  3\n",
       "201                  4\n",
       "202                  3\n",
       "203                  3\n",
       "204                  4\n",
       "205                  4\n",
       "206                  2\n",
       "207                  2\n",
       "208                  1\n",
       "209                  4\n",
       "210                  2\n",
       "211                  4\n",
       "212                  3\n",
       "213                  2\n",
       "214                  4\n",
       "215                  4\n",
       "216                  4\n",
       "217                  4\n",
       "218                  3\n",
       "219                  3\n",
       "220                  2\n",
       "221                  4\n",
       "222                  3\n",
       "223                  1\n",
       "224                  2"
      ]
     },
     "execution_count": 30,
     "metadata": {},
     "output_type": "execute_result"
    }
   ],
   "source": [
    "outputtest"
   ]
  },
  {
   "cell_type": "markdown",
   "metadata": {},
   "source": [
    "# Fitting the Model using K-Nearest Neighbors Classifier"
   ]
  },
  {
   "cell_type": "code",
   "execution_count": 31,
   "metadata": {},
   "outputs": [],
   "source": [
    "from sklearn.neighbors import KNeighborsClassifier"
   ]
  },
  {
   "cell_type": "code",
   "execution_count": 32,
   "metadata": {},
   "outputs": [],
   "source": [
    "teacher=KNeighborsClassifier(n_neighbors=5)"
   ]
  },
  {
   "cell_type": "code",
   "execution_count": 33,
   "metadata": {},
   "outputs": [
    {
     "name": "stderr",
     "output_type": "stream",
     "text": [
      "C:\\Users\\PareeKatti\\Anaconda3\\lib\\site-packages\\ipykernel_launcher.py:1: DataConversionWarning: A column-vector y was passed when a 1d array was expected. Please change the shape of y to (n_samples, ), for example using ravel().\n",
      "  \"\"\"Entry point for launching an IPython kernel.\n"
     ]
    }
   ],
   "source": [
    "learner=teacher.fit(inputtrain,outputtrain)"
   ]
  },
  {
   "cell_type": "code",
   "execution_count": 34,
   "metadata": {},
   "outputs": [],
   "source": [
    "predictedoutput=learner.predict(inputtest)"
   ]
  },
  {
   "cell_type": "code",
   "execution_count": 35,
   "metadata": {},
   "outputs": [
    {
     "data": {
      "text/plain": [
       "array([3, 4, 3, 2, 3, 4, 3, 2, 2, 2, 3, 3, 4, 2, 3, 4, 2, 4, 3, 3, 3, 4,\n",
       "       3, 3, 3], dtype=int64)"
      ]
     },
     "execution_count": 35,
     "metadata": {},
     "output_type": "execute_result"
    }
   ],
   "source": [
    "predictedoutput"
   ]
  },
  {
   "cell_type": "code",
   "execution_count": 36,
   "metadata": {},
   "outputs": [],
   "source": [
    "from sklearn.metrics import confusion_matrix"
   ]
  },
  {
   "cell_type": "code",
   "execution_count": 37,
   "metadata": {},
   "outputs": [
    {
     "data": {
      "text/plain": [
       "Text(0.5,1.05,'Confusion matrix')"
      ]
     },
     "execution_count": 37,
     "metadata": {},
     "output_type": "execute_result"
    },
    {
     "data": {
      "text/plain": [
       "<matplotlib.figure.Figure at 0x1ed98af1cc0>"
      ]
     },
     "metadata": {},
     "output_type": "display_data"
    },
    {
     "data": {
      "image/png": "[encoded data removed]",
      "text/plain": [
       "<matplotlib.figure.Figure at 0x1ed988abeb8>"
      ]
     },
     "metadata": {
      "needs_background": "light"
     },
     "output_type": "display_data"
    }
   ],
   "source": [
    "cnf_matrix=confusion_matrix(outputtest,predictedoutput)\n",
    "plt.figure()\n",
    "plt.matshow(cnf_matrix)\n",
    "plt.colorbar()\n",
    "plt.title('Confusion matrix')"
   ]
  },
  {
   "cell_type": "markdown",
   "metadata": {},
   "source": [
    "# Linear SVC"
   ]
  },
  {
   "cell_type": "code",
   "execution_count": 38,
   "metadata": {},
   "outputs": [],
   "source": [
    "from sklearn.svm import LinearSVC"
   ]
  },
  {
   "cell_type": "code",
   "execution_count": 39,
   "metadata": {},
   "outputs": [],
   "source": [
    "teacher=LinearSVC()"
   ]
  },
  {
   "cell_type": "code",
   "execution_count": 40,
   "metadata": {},
   "outputs": [
    {
     "name": "stderr",
     "output_type": "stream",
     "text": [
      "C:\\Users\\PareeKatti\\Anaconda3\\lib\\site-packages\\sklearn\\utils\\validation.py:578: DataConversionWarning: A column-vector y was passed when a 1d array was expected. Please change the shape of y to (n_samples, ), for example using ravel().\n",
      "  y = column_or_1d(y, warn=True)\n"
     ]
    }
   ],
   "source": [
    "learner=teacher.fit(inputtrain,outputtrain)"
   ]
  },
  {
   "cell_type": "code",
   "execution_count": 41,
   "metadata": {},
   "outputs": [],
   "source": [
    "predictedoutput1=learner.predict(inputtest)"
   ]
  },
  {
   "cell_type": "code",
   "execution_count": 42,
   "metadata": {},
   "outputs": [
    {
     "data": {
      "text/plain": [
       "array([3, 3, 3, 3, 3, 4, 3, 3, 3, 3, 3, 3, 3, 3, 3, 3, 3, 3, 3, 3, 3, 3,\n",
       "       3, 3, 3], dtype=int64)"
      ]
     },
     "execution_count": 42,
     "metadata": {},
     "output_type": "execute_result"
    }
   ],
   "source": [
    "predictedoutput1"
   ]
  },
  {
   "cell_type": "code",
   "execution_count": 43,
   "metadata": {},
   "outputs": [],
   "source": [
    "from sklearn.metrics import accuracy_score"
   ]
  },
  {
   "cell_type": "code",
   "execution_count": 44,
   "metadata": {},
   "outputs": [
    {
     "data": {
      "text/plain": [
       "0.32"
      ]
     },
     "execution_count": 44,
     "metadata": {},
     "output_type": "execute_result"
    }
   ],
   "source": [
    "accuracy_score(outputtest,predictedoutput1)"
   ]
  },
  {
   "cell_type": "markdown",
   "metadata": {},
   "source": [
    "# Random Forest Classifier"
   ]
  },
  {
   "cell_type": "code",
   "execution_count": 45,
   "metadata": {},
   "outputs": [],
   "source": [
    "from sklearn.ensemble import RandomForestClassifier"
   ]
  },
  {
   "cell_type": "code",
   "execution_count": 46,
   "metadata": {},
   "outputs": [],
   "source": [
    "teacher=RandomForestClassifier()"
   ]
  },
  {
   "cell_type": "code",
   "execution_count": 47,
   "metadata": {},
   "outputs": [
    {
     "name": "stderr",
     "output_type": "stream",
     "text": [
      "C:\\Users\\PareeKatti\\Anaconda3\\lib\\site-packages\\ipykernel_launcher.py:1: DataConversionWarning: A column-vector y was passed when a 1d array was expected. Please change the shape of y to (n_samples,), for example using ravel().\n",
      "  \"\"\"Entry point for launching an IPython kernel.\n"
     ]
    }
   ],
   "source": [
    "learner=teacher.fit(inputtrain,outputtrain)"
   ]
  },
  {
   "cell_type": "code",
   "execution_count": 48,
   "metadata": {},
   "outputs": [],
   "source": [
    "predictedoutput2=learner.predict(inputtest)"
   ]
  },
  {
   "cell_type": "code",
   "execution_count": 49,
   "metadata": {},
   "outputs": [
    {
     "data": {
      "text/plain": [
       "array([3, 4, 3, 3, 4, 4, 2, 2, 2, 4, 2, 4, 3, 2, 4, 4, 4, 4, 3, 3, 2, 4,\n",
       "       3, 1, 2], dtype=int64)"
      ]
     },
     "execution_count": 49,
     "metadata": {},
     "output_type": "execute_result"
    }
   ],
   "source": [
    "predictedoutput2"
   ]
  },
  {
   "cell_type": "code",
   "execution_count": 50,
   "metadata": {},
   "outputs": [],
   "source": [
    "from sklearn.metrics import accuracy_score"
   ]
  },
  {
   "cell_type": "code",
   "execution_count": 51,
   "metadata": {},
   "outputs": [
    {
     "data": {
      "text/plain": [
       "0.96"
      ]
     },
     "execution_count": 51,
     "metadata": {},
     "output_type": "execute_result"
    }
   ],
   "source": [
    "accuracy_score(outputtest,predictedoutput2)"
   ]
  },
  {
   "cell_type": "code",
   "execution_count": 52,
   "metadata": {},
   "outputs": [
    {
     "data": {
      "image/png": "[encoded data removed]",
      "text/plain": [
       "<matplotlib.figure.Figure at 0x1ed99d948d0>"
      ]
     },
     "metadata": {
      "needs_background": "light"
     },
     "output_type": "display_data"
    }
   ],
   "source": [
    "plt.plot(inputtest,predictedoutput,'go')\n",
    "plt.plot(inputtest,outputtest,'ro')\n",
    "plt.show()"
   ]
  },
  {
   "cell_type": "code",
   "execution_count": 53,
   "metadata": {},
   "outputs": [
    {
     "data": {
      "image/png": "[encoded data removed]",
      "text/plain": [
       "<matplotlib.figure.Figure at 0x1ed99efb6d8>"
      ]
     },
     "metadata": {
      "needs_background": "light"
     },
     "output_type": "display_data"
    }
   ],
   "source": [
    "plt.plot(inputtest,predictedoutput1,'bo')\n",
    "plt.plot(inputtest,outputtest,'ro')\n",
    "plt.show()"
   ]
  },
  {
   "cell_type": "code",
   "execution_count": 54,
   "metadata": {},
   "outputs": [
    {
     "data": {
      "image/png": "[encoded data removed]",
      "text/plain": [
       "<matplotlib.figure.Figure at 0x1ed99fa10b8>"
      ]
     },
     "metadata": {
      "needs_background": "light"
     },
     "output_type": "display_data"
    }
   ],
   "source": [
    "plt.plot(inputtest,predictedoutput2,'go')\n",
    "plt.plot(inputtest,outputtest,'ro')\n",
    "plt.show()"
   ]
  },
  {
   "cell_type": "markdown",
   "metadata": {},
   "source": [
    "# Decision Tree Classifier"
   ]
  },
  {
   "cell_type": "code",
   "execution_count": 55,
   "metadata": {},
   "outputs": [],
   "source": [
    "from sklearn.tree import DecisionTreeClassifier"
   ]
  },
  {
   "cell_type": "code",
   "execution_count": 56,
   "metadata": {},
   "outputs": [],
   "source": [
    "teacher=DecisionTreeClassifier()"
   ]
  },
  {
   "cell_type": "code",
   "execution_count": 57,
   "metadata": {},
   "outputs": [],
   "source": [
    "learner=teacher.fit(inputtrain,outputtrain)"
   ]
  },
  {
   "cell_type": "code",
   "execution_count": 58,
   "metadata": {},
   "outputs": [],
   "source": [
    "predictedoutput4=learner.predict(inputtest)"
   ]
  },
  {
   "cell_type": "code",
   "execution_count": 59,
   "metadata": {},
   "outputs": [
    {
     "data": {
      "text/plain": [
       "array([3, 4, 3, 3, 4, 4, 2, 2, 1, 4, 2, 4, 3, 2, 4, 4, 4, 4, 3, 3, 2, 4,\n",
       "       3, 1, 2], dtype=int64)"
      ]
     },
     "execution_count": 59,
     "metadata": {},
     "output_type": "execute_result"
    }
   ],
   "source": [
    "predictedoutput4"
   ]
  },
  {
   "cell_type": "code",
   "execution_count": 60,
   "metadata": {},
   "outputs": [
    {
     "data": {
      "text/plain": [
       "1.0"
      ]
     },
     "execution_count": 60,
     "metadata": {},
     "output_type": "execute_result"
    }
   ],
   "source": [
    "accuracy_score(outputtest,predictedoutput4)"
   ]
  },
  {
   "cell_type": "code",
   "execution_count": 61,
   "metadata": {},
   "outputs": [
    {
     "data": {
      "image/png": "[encoded data removed]",
      "text/plain": [
       "<matplotlib.figure.Figure at 0x1ed9a0ac208>"
      ]
     },
     "metadata": {
      "needs_background": "light"
     },
     "output_type": "display_data"
    }
   ],
   "source": [
    "plt.plot(inputtest,predictedoutput4,'go')\n",
    "plt.plot(inputtest,outputtest,'ro')\n",
    "plt.show()"
   ]
  },
  {
   "cell_type": "code",
   "execution_count": 62,
   "metadata": {},
   "outputs": [
    {
     "data": {
      "text/plain": [
       "array([4], dtype=int64)"
      ]
     },
     "execution_count": 62,
     "metadata": {},
     "output_type": "execute_result"
    }
   ],
   "source": [
    "learner.predict([[100023,13223,7.564,23000,97,5]])"
   ]
  },
  {
   "cell_type": "code",
   "execution_count": 63,
   "metadata": {},
   "outputs": [
    {
     "data": {
      "text/plain": [
       "array([1], dtype=int64)"
      ]
     },
     "execution_count": 63,
     "metadata": {},
     "output_type": "execute_result"
    }
   ],
   "source": [
    "learner.predict([[10000,5,2000,400,34,289]])"
   ]
  },
  {
   "cell_type": "code",
   "execution_count": 64,
   "metadata": {},
   "outputs": [
    {
     "data": {
      "text/plain": [
       "array([2], dtype=int64)"
      ]
     },
     "execution_count": 64,
     "metadata": {},
     "output_type": "execute_result"
    }
   ],
   "source": [
    "learner.predict([[100023,13223,7.564,2300,77,52]])"
   ]
  },
  {
   "cell_type": "code",
   "execution_count": 65,
   "metadata": {},
   "outputs": [
    {
     "data": {
      "text/plain": [
       "array([3], dtype=int64)"
      ]
     },
     "execution_count": 65,
     "metadata": {},
     "output_type": "execute_result"
    }
   ],
   "source": [
    "learner.predict([[100023,13223,7.564,23000,87,15]])"
   ]
  },
  {
   "cell_type": "code",
   "execution_count": null,
   "metadata": {},
   "outputs": [],
   "source": []
  },
  {
   "cell_type": "code",
   "execution_count": null,
   "metadata": {},
   "outputs": [],
   "source": []
  }
 ],
 "metadata": {
  "kernelspec": {
   "display_name": "Python 3",
   "language": "python",
   "name": "python3"
  },
  "language_info": {
   "codemirror_mode": {
    "name": "ipython",
    "version": 3
   },
   "file_extension": ".py",
   "mimetype": "text/x-python",
   "name": "python",
   "nbconvert_exporter": "python",
   "pygments_lexer": "ipython3",
   "version": "3.6.4"
  }
 },
 "nbformat": 4,
 "nbformat_minor": 2
}
