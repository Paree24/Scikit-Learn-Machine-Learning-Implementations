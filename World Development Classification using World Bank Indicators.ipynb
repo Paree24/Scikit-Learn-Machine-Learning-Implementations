{
 "cells": [
  {
   "cell_type": "markdown",
   "metadata": {},
   "source": [
    "# World Development Metrics"
   ]
  },
  {
   "cell_type": "markdown",
   "metadata": {},
   "source": [
    "## World Bank\n",
    "The World Bank is an international financial institution that provides loans to countries of the world for capital projects. It comprises two institutions: the International Bank for Reconstruction and Development, and the International Development Association. The World Bank is a component of the World Bank Group."
   ]
  },
  {
   "cell_type": "markdown",
   "metadata": {},
   "source": [
    "### Population\n",
    "\n",
    "A population is the number of living things that live together in the same place. A city's population is the number of people living in that city. These people are called inhabitants or residents.\n",
    "\n",
    "### Population Density\n",
    "\n",
    "Population Density is the measure of number of people living in a square kilometre of area\n",
    "\n",
    "### GDP Nominal\n",
    "\n",
    "Gross domestic product (GDP) is the market value of all final goods and services from a nation in a given year. Countries are sorted by nominal GDP estimates from financial and statistical institutions, which are calculated at market or government official exchange rates.\n",
    "\n",
    "\n",
    "### Literacy Rate\n",
    "\n",
    "Total number of literate persons in a given age group, expressed as a percentage of the total population in that age group. The adult literacy rate measures literacy among persons aged 15 years and above, and the youth literacy rate measures literacy among persons aged 15 to 24 years.\n",
    "\n",
    "### Infant Mortality Rate\n",
    "\n",
    "Infant mortality rate (IMR) is the number of deaths per 1,000 live births of children under one year of age. The rate for a given region is the number of children dying under one year of age, divided by the number of live births during the year, multiplied by 1,000."
   ]
  },
  {
   "cell_type": "markdown",
   "metadata": {},
   "source": [
    "# Data Preparation and Importing"
   ]
  },
  {
   "cell_type": "code",
   "execution_count": 1,
   "metadata": {},
   "outputs": [],
   "source": [
    "import numpy as np\n",
    "import pandas as pd\n",
    "import matplotlib.pyplot as plt\n",
    "import seaborn as sns"
   ]
  },
  {
   "cell_type": "code",
   "execution_count": 2,
   "metadata": {},
   "outputs": [],
   "source": [
    "data=pd.read_excel(r\"C:\\Users\\PareeKatti\\Machine Learning\\2018 Country classification Worldbank.xlsx\")"
   ]
  },
  {
   "cell_type": "code",
   "execution_count": 3,
   "metadata": {},
   "outputs": [
    {
     "data": {
      "text/html": [
       "<div>\n",
       "<style scoped>\n",
       "    .dataframe tbody tr th:only-of-type {\n",
       "        vertical-align: middle;\n",
       "    }\n",
       "\n",
       "    .dataframe tbody tr th {\n",
       "        vertical-align: top;\n",
       "    }\n",
       "\n",
       "    .dataframe thead th {\n",
       "        text-align: right;\n",
       "    }\n",
       "</style>\n",
       "<table border=\"1\" class=\"dataframe\">\n",
       "  <thead>\n",
       "    <tr style=\"text-align: right;\">\n",
       "      <th></th>\n",
       "      <th>Population</th>\n",
       "      <th>Area (sq. mi.)</th>\n",
       "      <th>Pop. Density</th>\n",
       "      <th>GDP ($ per capita)</th>\n",
       "      <th>Literacy (%)</th>\n",
       "      <th>Infant mortality</th>\n",
       "      <th>Development Index</th>\n",
       "    </tr>\n",
       "  </thead>\n",
       "  <tbody>\n",
       "    <tr>\n",
       "      <th>0</th>\n",
       "      <td>9944201</td>\n",
       "      <td>1284000</td>\n",
       "      <td>7.7</td>\n",
       "      <td>1200</td>\n",
       "      <td>47.5</td>\n",
       "      <td>93.82</td>\n",
       "      <td>2</td>\n",
       "    </tr>\n",
       "    <tr>\n",
       "      <th>1</th>\n",
       "      <td>5450661</td>\n",
       "      <td>43094</td>\n",
       "      <td>126.5</td>\n",
       "      <td>31100</td>\n",
       "      <td>100.0</td>\n",
       "      <td>4.56</td>\n",
       "      <td>4</td>\n",
       "    </tr>\n",
       "    <tr>\n",
       "      <th>2</th>\n",
       "      <td>26783383</td>\n",
       "      <td>437072</td>\n",
       "      <td>61.3</td>\n",
       "      <td>1500</td>\n",
       "      <td>40.4</td>\n",
       "      <td>50.25</td>\n",
       "      <td>2</td>\n",
       "    </tr>\n",
       "    <tr>\n",
       "      <th>3</th>\n",
       "      <td>9439</td>\n",
       "      <td>102</td>\n",
       "      <td>92.5</td>\n",
       "      <td>3400</td>\n",
       "      <td>97.0</td>\n",
       "      <td>7.35</td>\n",
       "      <td>4</td>\n",
       "    </tr>\n",
       "    <tr>\n",
       "      <th>4</th>\n",
       "      <td>3431932</td>\n",
       "      <td>176220</td>\n",
       "      <td>19.5</td>\n",
       "      <td>12800</td>\n",
       "      <td>98.0</td>\n",
       "      <td>11.95</td>\n",
       "      <td>3</td>\n",
       "    </tr>\n",
       "  </tbody>\n",
       "</table>\n",
       "</div>"
      ],
      "text/plain": [
       "   Population  Area (sq. mi.)  Pop. Density   GDP ($ per capita)  \\\n",
       "0     9944201         1284000            7.7                1200   \n",
       "1     5450661           43094          126.5               31100   \n",
       "2    26783383          437072           61.3                1500   \n",
       "3        9439             102           92.5                3400   \n",
       "4     3431932          176220           19.5               12800   \n",
       "\n",
       "   Literacy (%)  Infant mortality   Development Index  \n",
       "0          47.5              93.82                  2  \n",
       "1         100.0               4.56                  4  \n",
       "2          40.4              50.25                  2  \n",
       "3          97.0               7.35                  4  \n",
       "4          98.0              11.95                  3  "
      ]
     },
     "execution_count": 3,
     "metadata": {},
     "output_type": "execute_result"
    }
   ],
   "source": [
    "data.head()"
   ]
  },
  {
   "cell_type": "code",
   "execution_count": 4,
   "metadata": {},
   "outputs": [],
   "source": [
    "del data['Population']\n",
    "del data['Area (sq. mi.)']"
   ]
  },
  {
   "cell_type": "code",
   "execution_count": 5,
   "metadata": {},
   "outputs": [],
   "source": [
    "del data['Pop. Density ']"
   ]
  },
  {
   "cell_type": "code",
   "execution_count": 6,
   "metadata": {},
   "outputs": [
    {
     "data": {
      "text/plain": [
       "Index(['GDP ($ per capita)', 'Literacy (%)', 'Infant mortality ',\n",
       "       'Development Index'],\n",
       "      dtype='object')"
      ]
     },
     "execution_count": 6,
     "metadata": {},
     "output_type": "execute_result"
    }
   ],
   "source": [
    "data.keys()"
   ]
  },
  {
   "cell_type": "code",
   "execution_count": 7,
   "metadata": {},
   "outputs": [],
   "source": [
    "names={1:'Low Income',2:'Lower Middle Income',3:'Upper Middle Income',4:'High Income'}"
   ]
  },
  {
   "cell_type": "markdown",
   "metadata": {},
   "source": [
    "# Data Visualization"
   ]
  },
  {
   "cell_type": "code",
   "execution_count": 8,
   "metadata": {},
   "outputs": [
    {
     "data": {
      "text/plain": [
       "<matplotlib.axes._subplots.AxesSubplot at 0x23c4a1a4860>"
      ]
     },
     "execution_count": 8,
     "metadata": {},
     "output_type": "execute_result"
    },
    {
     "data": {
      "image/png": "[encoded data removed]",
      "text/plain": [
       "<matplotlib.figure.Figure at 0x23c4a1a4f60>"
      ]
     },
     "metadata": {
      "needs_background": "light"
     },
     "output_type": "display_data"
    }
   ],
   "source": [
    "plt.title(\"Distribution of Income Index\")\n",
    "sns.countplot('Development Index',hue='Development Index',data=data,palette='Blues')"
   ]
  },
  {
   "cell_type": "code",
   "execution_count": 9,
   "metadata": {},
   "outputs": [
    {
     "data": {
      "text/plain": [
       "<matplotlib.axes._subplots.AxesSubplot at 0x23c4a232080>"
      ]
     },
     "execution_count": 9,
     "metadata": {},
     "output_type": "execute_result"
    },
    {
     "data": {
      "image/png": "[encoded data removed]",
      "text/plain": [
       "<matplotlib.figure.Figure at 0x23c4a1a48d0>"
      ]
     },
     "metadata": {},
     "output_type": "display_data"
    }
   ],
   "source": [
    "plt.title(\"Pie Chart of Distribution of Income Index\")\n",
    "data['Development Index'].value_counts().plot(kind='Pie')"
   ]
  },
  {
   "cell_type": "code",
   "execution_count": 10,
   "metadata": {},
   "outputs": [
    {
     "data": {
      "text/plain": [
       "<seaborn.axisgrid.FacetGrid at 0x23c4a32b828>"
      ]
     },
     "execution_count": 10,
     "metadata": {},
     "output_type": "execute_result"
    },
    {
     "data": {
      "image/png": "[encoded data removed]",
      "text/plain": [
       "<matplotlib.figure.Figure at 0x23c4a325c18>"
      ]
     },
     "metadata": {
      "needs_background": "light"
     },
     "output_type": "display_data"
    }
   ],
   "source": [
    "sns.lmplot(x='Development Index',y='GDP ($ per capita)',hue='Development Index',data=data,fit_reg=True)"
   ]
  },
  {
   "cell_type": "code",
   "execution_count": 11,
   "metadata": {},
   "outputs": [
    {
     "data": {
      "text/plain": [
       "<seaborn.axisgrid.FacetGrid at 0x23c4a42fb00>"
      ]
     },
     "execution_count": 11,
     "metadata": {},
     "output_type": "execute_result"
    },
    {
     "data": {
      "image/png": "[encoded data removed]",
      "text/plain": [
       "<matplotlib.figure.Figure at 0x23c4a3c0828>"
      ]
     },
     "metadata": {
      "needs_background": "light"
     },
     "output_type": "display_data"
    }
   ],
   "source": [
    "sns.lmplot(x='Literacy (%)',y='Development Index',hue='Development Index',data=data,fit_reg=False)"
   ]
  },
  {
   "cell_type": "code",
   "execution_count": 12,
   "metadata": {},
   "outputs": [
    {
     "data": {
      "text/plain": [
       "<seaborn.axisgrid.FacetGrid at 0x23c4a560dd8>"
      ]
     },
     "execution_count": 12,
     "metadata": {},
     "output_type": "execute_result"
    },
    {
     "data": {
      "image/png": "[encoded data removed]",
      "text/plain": [
       "<matplotlib.figure.Figure at 0x23c4a44af28>"
      ]
     },
     "metadata": {
      "needs_background": "light"
     },
     "output_type": "display_data"
    }
   ],
   "source": [
    "sns.lmplot(x='Development Index',y='Infant mortality ',hue='Development Index',data=data,fit_reg=True)"
   ]
  },
  {
   "cell_type": "markdown",
   "metadata": {},
   "source": [
    "# Data Seperation and Splitting"
   ]
  },
  {
   "cell_type": "code",
   "execution_count": 13,
   "metadata": {},
   "outputs": [],
   "source": [
    "from sklearn.preprocessing import StandardScaler\n",
    "sc=StandardScaler()\n",
    "inputdata=data.iloc[:,:3]\n",
    "cols=['GDP','Literacy','Infant Mortality']\n",
    "data_scaled=sc.fit_transform(inputdata)\n",
    "inputdata=pd.DataFrame(data=data_scaled,columns=cols)"
   ]
  },
  {
   "cell_type": "code",
   "execution_count": 14,
   "metadata": {},
   "outputs": [
    {
     "data": {
      "text/html": [
       "<div>\n",
       "<style scoped>\n",
       "    .dataframe tbody tr th:only-of-type {\n",
       "        vertical-align: middle;\n",
       "    }\n",
       "\n",
       "    .dataframe tbody tr th {\n",
       "        vertical-align: top;\n",
       "    }\n",
       "\n",
       "    .dataframe thead th {\n",
       "        text-align: right;\n",
       "    }\n",
       "</style>\n",
       "<table border=\"1\" class=\"dataframe\">\n",
       "  <thead>\n",
       "    <tr style=\"text-align: right;\">\n",
       "      <th></th>\n",
       "      <th>GDP</th>\n",
       "      <th>Literacy</th>\n",
       "      <th>Infant Mortality</th>\n",
       "    </tr>\n",
       "  </thead>\n",
       "  <tbody>\n",
       "    <tr>\n",
       "      <th>0</th>\n",
       "      <td>-0.850249</td>\n",
       "      <td>-1.879631</td>\n",
       "      <td>1.655387</td>\n",
       "    </tr>\n",
       "    <tr>\n",
       "      <th>1</th>\n",
       "      <td>2.130341</td>\n",
       "      <td>0.824870</td>\n",
       "      <td>-0.867918</td>\n",
       "    </tr>\n",
       "    <tr>\n",
       "      <th>2</th>\n",
       "      <td>-0.820344</td>\n",
       "      <td>-2.245382</td>\n",
       "      <td>0.423699</td>\n",
       "    </tr>\n",
       "    <tr>\n",
       "      <th>3</th>\n",
       "      <td>-0.630941</td>\n",
       "      <td>0.670327</td>\n",
       "      <td>-0.789047</td>\n",
       "    </tr>\n",
       "    <tr>\n",
       "      <th>4</th>\n",
       "      <td>0.306100</td>\n",
       "      <td>0.721841</td>\n",
       "      <td>-0.659009</td>\n",
       "    </tr>\n",
       "    <tr>\n",
       "      <th>5</th>\n",
       "      <td>-0.301980</td>\n",
       "      <td>0.773355</td>\n",
       "      <td>-0.711590</td>\n",
       "    </tr>\n",
       "    <tr>\n",
       "      <th>6</th>\n",
       "      <td>2.000750</td>\n",
       "      <td>0.670327</td>\n",
       "      <td>-0.862547</td>\n",
       "    </tr>\n",
       "    <tr>\n",
       "      <th>7</th>\n",
       "      <td>1.223205</td>\n",
       "      <td>0.773355</td>\n",
       "      <td>-0.820426</td>\n",
       "    </tr>\n",
       "    <tr>\n",
       "      <th>8</th>\n",
       "      <td>0.964023</td>\n",
       "      <td>0.541541</td>\n",
       "      <td>-0.872724</td>\n",
       "    </tr>\n",
       "    <tr>\n",
       "      <th>9</th>\n",
       "      <td>0.096761</td>\n",
       "      <td>0.124275</td>\n",
       "      <td>0.750491</td>\n",
       "    </tr>\n",
       "    <tr>\n",
       "      <th>10</th>\n",
       "      <td>0.694873</td>\n",
       "      <td>0.598207</td>\n",
       "      <td>-0.284160</td>\n",
       "    </tr>\n",
       "    <tr>\n",
       "      <th>11</th>\n",
       "      <td>-0.640910</td>\n",
       "      <td>0.438513</td>\n",
       "      <td>-0.327978</td>\n",
       "    </tr>\n",
       "    <tr>\n",
       "      <th>12</th>\n",
       "      <td>-0.461476</td>\n",
       "      <td>0.356090</td>\n",
       "      <td>-0.093909</td>\n",
       "    </tr>\n",
       "    <tr>\n",
       "      <th>13</th>\n",
       "      <td>0.774621</td>\n",
       "      <td>0.721841</td>\n",
       "      <td>-0.758234</td>\n",
       "    </tr>\n",
       "    <tr>\n",
       "      <th>14</th>\n",
       "      <td>-0.870186</td>\n",
       "      <td>0.057307</td>\n",
       "      <td>0.740879</td>\n",
       "    </tr>\n",
       "    <tr>\n",
       "      <th>15</th>\n",
       "      <td>1.223205</td>\n",
       "      <td>0.716690</td>\n",
       "      <td>-0.871876</td>\n",
       "    </tr>\n",
       "    <tr>\n",
       "      <th>16</th>\n",
       "      <td>-0.431571</td>\n",
       "      <td>-0.875102</td>\n",
       "      <td>-0.614344</td>\n",
       "    </tr>\n",
       "    <tr>\n",
       "      <th>17</th>\n",
       "      <td>-0.830312</td>\n",
       "      <td>-1.998113</td>\n",
       "      <td>0.896642</td>\n",
       "    </tr>\n",
       "    <tr>\n",
       "      <th>18</th>\n",
       "      <td>0.276195</td>\n",
       "      <td>0.670327</td>\n",
       "      <td>-0.795832</td>\n",
       "    </tr>\n",
       "    <tr>\n",
       "      <th>19</th>\n",
       "      <td>-0.890123</td>\n",
       "      <td>-1.740542</td>\n",
       "      <td>0.741727</td>\n",
       "    </tr>\n",
       "    <tr>\n",
       "      <th>20</th>\n",
       "      <td>1.003897</td>\n",
       "      <td>0.587904</td>\n",
       "      <td>-0.798094</td>\n",
       "    </tr>\n",
       "    <tr>\n",
       "      <th>21</th>\n",
       "      <td>-0.282043</td>\n",
       "      <td>-0.504199</td>\n",
       "      <td>-0.296599</td>\n",
       "    </tr>\n",
       "    <tr>\n",
       "      <th>22</th>\n",
       "      <td>1.781443</td>\n",
       "      <td>0.773355</td>\n",
       "      <td>-0.879226</td>\n",
       "    </tr>\n",
       "    <tr>\n",
       "      <th>23</th>\n",
       "      <td>-0.920029</td>\n",
       "      <td>-2.379319</td>\n",
       "      <td>2.302185</td>\n",
       "    </tr>\n",
       "    <tr>\n",
       "      <th>24</th>\n",
       "      <td>-0.890123</td>\n",
       "      <td>-2.142353</td>\n",
       "      <td>2.032780</td>\n",
       "    </tr>\n",
       "    <tr>\n",
       "      <th>25</th>\n",
       "      <td>-0.341854</td>\n",
       "      <td>0.438513</td>\n",
       "      <td>-0.404022</td>\n",
       "    </tr>\n",
       "    <tr>\n",
       "      <th>26</th>\n",
       "      <td>-0.680784</td>\n",
       "      <td>0.670327</td>\n",
       "      <td>-0.817882</td>\n",
       "    </tr>\n",
       "    <tr>\n",
       "      <th>27</th>\n",
       "      <td>-0.920029</td>\n",
       "      <td>-2.709011</td>\n",
       "      <td>3.063756</td>\n",
       "    </tr>\n",
       "    <tr>\n",
       "      <th>28</th>\n",
       "      <td>-0.750564</td>\n",
       "      <td>-0.998736</td>\n",
       "      <td>0.457622</td>\n",
       "    </tr>\n",
       "    <tr>\n",
       "      <th>29</th>\n",
       "      <td>-0.252137</td>\n",
       "      <td>0.000641</td>\n",
       "      <td>0.387798</td>\n",
       "    </tr>\n",
       "    <tr>\n",
       "      <th>...</th>\n",
       "      <td>...</td>\n",
       "      <td>...</td>\n",
       "      <td>...</td>\n",
       "    </tr>\n",
       "    <tr>\n",
       "      <th>195</th>\n",
       "      <td>-0.740595</td>\n",
       "      <td>-0.849345</td>\n",
       "      <td>-0.173911</td>\n",
       "    </tr>\n",
       "    <tr>\n",
       "      <th>196</th>\n",
       "      <td>0.336006</td>\n",
       "      <td>-0.421776</td>\n",
       "      <td>-0.445295</td>\n",
       "    </tr>\n",
       "    <tr>\n",
       "      <th>197</th>\n",
       "      <td>1.023834</td>\n",
       "      <td>0.773355</td>\n",
       "      <td>-0.549608</td>\n",
       "    </tr>\n",
       "    <tr>\n",
       "      <th>198</th>\n",
       "      <td>1.980813</td>\n",
       "      <td>0.721841</td>\n",
       "      <td>-0.844455</td>\n",
       "    </tr>\n",
       "    <tr>\n",
       "      <th>199</th>\n",
       "      <td>1.901065</td>\n",
       "      <td>0.490027</td>\n",
       "      <td>-0.912866</td>\n",
       "    </tr>\n",
       "    <tr>\n",
       "      <th>200</th>\n",
       "      <td>0.714810</td>\n",
       "      <td>0.263364</td>\n",
       "      <td>-0.508617</td>\n",
       "    </tr>\n",
       "    <tr>\n",
       "      <th>201</th>\n",
       "      <td>-0.172389</td>\n",
       "      <td>0.309727</td>\n",
       "      <td>-0.753711</td>\n",
       "    </tr>\n",
       "    <tr>\n",
       "      <th>202</th>\n",
       "      <td>-0.810375</td>\n",
       "      <td>0.500330</td>\n",
       "      <td>-0.164299</td>\n",
       "    </tr>\n",
       "    <tr>\n",
       "      <th>203</th>\n",
       "      <td>0.146604</td>\n",
       "      <td>0.675478</td>\n",
       "      <td>-0.567700</td>\n",
       "    </tr>\n",
       "    <tr>\n",
       "      <th>204</th>\n",
       "      <td>0.924149</td>\n",
       "      <td>-0.025116</td>\n",
       "      <td>-0.715548</td>\n",
       "    </tr>\n",
       "    <tr>\n",
       "      <th>205</th>\n",
       "      <td>1.721632</td>\n",
       "      <td>0.773355</td>\n",
       "      <td>-0.843324</td>\n",
       "    </tr>\n",
       "    <tr>\n",
       "      <th>206</th>\n",
       "      <td>-0.700721</td>\n",
       "      <td>0.088215</td>\n",
       "      <td>1.409728</td>\n",
       "    </tr>\n",
       "    <tr>\n",
       "      <th>207</th>\n",
       "      <td>-0.860218</td>\n",
       "      <td>-2.219625</td>\n",
       "      <td>1.406053</td>\n",
       "    </tr>\n",
       "    <tr>\n",
       "      <th>208</th>\n",
       "      <td>-0.910060</td>\n",
       "      <td>-1.096613</td>\n",
       "      <td>1.923944</td>\n",
       "    </tr>\n",
       "    <tr>\n",
       "      <th>209</th>\n",
       "      <td>0.804527</td>\n",
       "      <td>0.716690</td>\n",
       "      <td>-0.797528</td>\n",
       "    </tr>\n",
       "    <tr>\n",
       "      <th>210</th>\n",
       "      <td>-0.790438</td>\n",
       "      <td>-2.178413</td>\n",
       "      <td>1.007175</td>\n",
       "    </tr>\n",
       "    <tr>\n",
       "      <th>211</th>\n",
       "      <td>-0.282043</td>\n",
       "      <td>0.773355</td>\n",
       "      <td>-0.783676</td>\n",
       "    </tr>\n",
       "    <tr>\n",
       "      <th>212</th>\n",
       "      <td>-0.571130</td>\n",
       "      <td>0.464270</td>\n",
       "      <td>-0.330522</td>\n",
       "    </tr>\n",
       "    <tr>\n",
       "      <th>213</th>\n",
       "      <td>-0.760532</td>\n",
       "      <td>-1.972356</td>\n",
       "      <td>1.050992</td>\n",
       "    </tr>\n",
       "    <tr>\n",
       "      <th>214</th>\n",
       "      <td>0.166541</td>\n",
       "      <td>0.804264</td>\n",
       "      <td>-0.802051</td>\n",
       "    </tr>\n",
       "    <tr>\n",
       "      <th>215</th>\n",
       "      <td>0.824464</td>\n",
       "      <td>0.479724</td>\n",
       "      <td>-0.854067</td>\n",
       "    </tr>\n",
       "    <tr>\n",
       "      <th>216</th>\n",
       "      <td>1.881128</td>\n",
       "      <td>0.773355</td>\n",
       "      <td>-0.854349</td>\n",
       "    </tr>\n",
       "    <tr>\n",
       "      <th>217</th>\n",
       "      <td>1.023834</td>\n",
       "      <td>0.773355</td>\n",
       "      <td>-0.863678</td>\n",
       "    </tr>\n",
       "    <tr>\n",
       "      <th>218</th>\n",
       "      <td>-0.571130</td>\n",
       "      <td>0.763053</td>\n",
       "      <td>-0.056594</td>\n",
       "    </tr>\n",
       "    <tr>\n",
       "      <th>219</th>\n",
       "      <td>-0.680784</td>\n",
       "      <td>0.618813</td>\n",
       "      <td>-0.579008</td>\n",
       "    </tr>\n",
       "    <tr>\n",
       "      <th>220</th>\n",
       "      <td>-0.900092</td>\n",
       "      <td>-2.126899</td>\n",
       "      <td>1.697790</td>\n",
       "    </tr>\n",
       "    <tr>\n",
       "      <th>221</th>\n",
       "      <td>4.522789</td>\n",
       "      <td>0.824870</td>\n",
       "      <td>-0.860851</td>\n",
       "    </tr>\n",
       "    <tr>\n",
       "      <th>222</th>\n",
       "      <td>-0.022861</td>\n",
       "      <td>0.752750</td>\n",
       "      <td>-0.309603</td>\n",
       "    </tr>\n",
       "    <tr>\n",
       "      <th>223</th>\n",
       "      <td>-0.870186</td>\n",
       "      <td>-1.364488</td>\n",
       "      <td>2.646221</td>\n",
       "    </tr>\n",
       "    <tr>\n",
       "      <th>224</th>\n",
       "      <td>-0.750564</td>\n",
       "      <td>-0.473290</td>\n",
       "      <td>0.457057</td>\n",
       "    </tr>\n",
       "  </tbody>\n",
       "</table>\n",
       "<p>225 rows × 3 columns</p>\n",
       "</div>"
      ],
      "text/plain": [
       "          GDP  Literacy  Infant Mortality\n",
       "0   -0.850249 -1.879631          1.655387\n",
       "1    2.130341  0.824870         -0.867918\n",
       "2   -0.820344 -2.245382          0.423699\n",
       "3   -0.630941  0.670327         -0.789047\n",
       "4    0.306100  0.721841         -0.659009\n",
       "5   -0.301980  0.773355         -0.711590\n",
       "6    2.000750  0.670327         -0.862547\n",
       "7    1.223205  0.773355         -0.820426\n",
       "8    0.964023  0.541541         -0.872724\n",
       "9    0.096761  0.124275          0.750491\n",
       "10   0.694873  0.598207         -0.284160\n",
       "11  -0.640910  0.438513         -0.327978\n",
       "12  -0.461476  0.356090         -0.093909\n",
       "13   0.774621  0.721841         -0.758234\n",
       "14  -0.870186  0.057307          0.740879\n",
       "15   1.223205  0.716690         -0.871876\n",
       "16  -0.431571 -0.875102         -0.614344\n",
       "17  -0.830312 -1.998113          0.896642\n",
       "18   0.276195  0.670327         -0.795832\n",
       "19  -0.890123 -1.740542          0.741727\n",
       "20   1.003897  0.587904         -0.798094\n",
       "21  -0.282043 -0.504199         -0.296599\n",
       "22   1.781443  0.773355         -0.879226\n",
       "23  -0.920029 -2.379319          2.302185\n",
       "24  -0.890123 -2.142353          2.032780\n",
       "25  -0.341854  0.438513         -0.404022\n",
       "26  -0.680784  0.670327         -0.817882\n",
       "27  -0.920029 -2.709011          3.063756\n",
       "28  -0.750564 -0.998736          0.457622\n",
       "29  -0.252137  0.000641          0.387798\n",
       "..        ...       ...               ...\n",
       "195 -0.740595 -0.849345         -0.173911\n",
       "196  0.336006 -0.421776         -0.445295\n",
       "197  1.023834  0.773355         -0.549608\n",
       "198  1.980813  0.721841         -0.844455\n",
       "199  1.901065  0.490027         -0.912866\n",
       "200  0.714810  0.263364         -0.508617\n",
       "201 -0.172389  0.309727         -0.753711\n",
       "202 -0.810375  0.500330         -0.164299\n",
       "203  0.146604  0.675478         -0.567700\n",
       "204  0.924149 -0.025116         -0.715548\n",
       "205  1.721632  0.773355         -0.843324\n",
       "206 -0.700721  0.088215          1.409728\n",
       "207 -0.860218 -2.219625          1.406053\n",
       "208 -0.910060 -1.096613          1.923944\n",
       "209  0.804527  0.716690         -0.797528\n",
       "210 -0.790438 -2.178413          1.007175\n",
       "211 -0.282043  0.773355         -0.783676\n",
       "212 -0.571130  0.464270         -0.330522\n",
       "213 -0.760532 -1.972356          1.050992\n",
       "214  0.166541  0.804264         -0.802051\n",
       "215  0.824464  0.479724         -0.854067\n",
       "216  1.881128  0.773355         -0.854349\n",
       "217  1.023834  0.773355         -0.863678\n",
       "218 -0.571130  0.763053         -0.056594\n",
       "219 -0.680784  0.618813         -0.579008\n",
       "220 -0.900092 -2.126899          1.697790\n",
       "221  4.522789  0.824870         -0.860851\n",
       "222 -0.022861  0.752750         -0.309603\n",
       "223 -0.870186 -1.364488          2.646221\n",
       "224 -0.750564 -0.473290          0.457057\n",
       "\n",
       "[225 rows x 3 columns]"
      ]
     },
     "execution_count": 14,
     "metadata": {},
     "output_type": "execute_result"
    }
   ],
   "source": [
    "inputdata"
   ]
  },
  {
   "cell_type": "code",
   "execution_count": 15,
   "metadata": {},
   "outputs": [],
   "source": [
    "outputdata=data.iloc[:,3:]"
   ]
  },
  {
   "cell_type": "code",
   "execution_count": 16,
   "metadata": {},
   "outputs": [
    {
     "data": {
      "text/html": [
       "<div>\n",
       "<style scoped>\n",
       "    .dataframe tbody tr th:only-of-type {\n",
       "        vertical-align: middle;\n",
       "    }\n",
       "\n",
       "    .dataframe tbody tr th {\n",
       "        vertical-align: top;\n",
       "    }\n",
       "\n",
       "    .dataframe thead th {\n",
       "        text-align: right;\n",
       "    }\n",
       "</style>\n",
       "<table border=\"1\" class=\"dataframe\">\n",
       "  <thead>\n",
       "    <tr style=\"text-align: right;\">\n",
       "      <th></th>\n",
       "      <th>Development Index</th>\n",
       "    </tr>\n",
       "  </thead>\n",
       "  <tbody>\n",
       "    <tr>\n",
       "      <th>0</th>\n",
       "      <td>2</td>\n",
       "    </tr>\n",
       "    <tr>\n",
       "      <th>1</th>\n",
       "      <td>4</td>\n",
       "    </tr>\n",
       "    <tr>\n",
       "      <th>2</th>\n",
       "      <td>2</td>\n",
       "    </tr>\n",
       "    <tr>\n",
       "      <th>3</th>\n",
       "      <td>4</td>\n",
       "    </tr>\n",
       "    <tr>\n",
       "      <th>4</th>\n",
       "      <td>3</td>\n",
       "    </tr>\n",
       "  </tbody>\n",
       "</table>\n",
       "</div>"
      ],
      "text/plain": [
       "   Development Index\n",
       "0                  2\n",
       "1                  4\n",
       "2                  2\n",
       "3                  4\n",
       "4                  3"
      ]
     },
     "execution_count": 16,
     "metadata": {},
     "output_type": "execute_result"
    }
   ],
   "source": [
    "outputdata.head()"
   ]
  },
  {
   "cell_type": "code",
   "execution_count": 17,
   "metadata": {},
   "outputs": [
    {
     "data": {
      "text/plain": [
       "pandas.core.frame.DataFrame"
      ]
     },
     "execution_count": 17,
     "metadata": {},
     "output_type": "execute_result"
    }
   ],
   "source": [
    "type(inputdata)"
   ]
  },
  {
   "cell_type": "code",
   "execution_count": 18,
   "metadata": {},
   "outputs": [
    {
     "data": {
      "text/plain": [
       "pandas.core.frame.DataFrame"
      ]
     },
     "execution_count": 18,
     "metadata": {},
     "output_type": "execute_result"
    }
   ],
   "source": [
    "type(outputdata)"
   ]
  },
  {
   "cell_type": "code",
   "execution_count": 19,
   "metadata": {},
   "outputs": [
    {
     "data": {
      "text/plain": [
       "(225, 3)"
      ]
     },
     "execution_count": 19,
     "metadata": {},
     "output_type": "execute_result"
    }
   ],
   "source": [
    "inputdata.shape"
   ]
  },
  {
   "cell_type": "code",
   "execution_count": 20,
   "metadata": {},
   "outputs": [
    {
     "data": {
      "text/plain": [
       "(225, 1)"
      ]
     },
     "execution_count": 20,
     "metadata": {},
     "output_type": "execute_result"
    }
   ],
   "source": [
    "outputdata.shape"
   ]
  },
  {
   "cell_type": "code",
   "execution_count": 21,
   "metadata": {},
   "outputs": [],
   "source": [
    "inputtrain=inputdata[:200]"
   ]
  },
  {
   "cell_type": "code",
   "execution_count": 22,
   "metadata": {},
   "outputs": [],
   "source": [
    "inputtest=inputdata[200:]"
   ]
  },
  {
   "cell_type": "code",
   "execution_count": 23,
   "metadata": {},
   "outputs": [],
   "source": [
    "outputtrain=outputdata[:200]"
   ]
  },
  {
   "cell_type": "code",
   "execution_count": 24,
   "metadata": {},
   "outputs": [],
   "source": [
    "outputtest=outputdata[200:]"
   ]
  },
  {
   "cell_type": "code",
   "execution_count": 25,
   "metadata": {},
   "outputs": [
    {
     "data": {
      "text/html": [
       "<div>\n",
       "<style scoped>\n",
       "    .dataframe tbody tr th:only-of-type {\n",
       "        vertical-align: middle;\n",
       "    }\n",
       "\n",
       "    .dataframe tbody tr th {\n",
       "        vertical-align: top;\n",
       "    }\n",
       "\n",
       "    .dataframe thead th {\n",
       "        text-align: right;\n",
       "    }\n",
       "</style>\n",
       "<table border=\"1\" class=\"dataframe\">\n",
       "  <thead>\n",
       "    <tr style=\"text-align: right;\">\n",
       "      <th></th>\n",
       "      <th>GDP</th>\n",
       "      <th>Literacy</th>\n",
       "      <th>Infant Mortality</th>\n",
       "    </tr>\n",
       "  </thead>\n",
       "  <tbody>\n",
       "    <tr>\n",
       "      <th>0</th>\n",
       "      <td>-0.850249</td>\n",
       "      <td>-1.879631</td>\n",
       "      <td>1.655387</td>\n",
       "    </tr>\n",
       "    <tr>\n",
       "      <th>1</th>\n",
       "      <td>2.130341</td>\n",
       "      <td>0.824870</td>\n",
       "      <td>-0.867918</td>\n",
       "    </tr>\n",
       "    <tr>\n",
       "      <th>2</th>\n",
       "      <td>-0.820344</td>\n",
       "      <td>-2.245382</td>\n",
       "      <td>0.423699</td>\n",
       "    </tr>\n",
       "    <tr>\n",
       "      <th>3</th>\n",
       "      <td>-0.630941</td>\n",
       "      <td>0.670327</td>\n",
       "      <td>-0.789047</td>\n",
       "    </tr>\n",
       "    <tr>\n",
       "      <th>4</th>\n",
       "      <td>0.306100</td>\n",
       "      <td>0.721841</td>\n",
       "      <td>-0.659009</td>\n",
       "    </tr>\n",
       "    <tr>\n",
       "      <th>5</th>\n",
       "      <td>-0.301980</td>\n",
       "      <td>0.773355</td>\n",
       "      <td>-0.711590</td>\n",
       "    </tr>\n",
       "    <tr>\n",
       "      <th>6</th>\n",
       "      <td>2.000750</td>\n",
       "      <td>0.670327</td>\n",
       "      <td>-0.862547</td>\n",
       "    </tr>\n",
       "    <tr>\n",
       "      <th>7</th>\n",
       "      <td>1.223205</td>\n",
       "      <td>0.773355</td>\n",
       "      <td>-0.820426</td>\n",
       "    </tr>\n",
       "    <tr>\n",
       "      <th>8</th>\n",
       "      <td>0.964023</td>\n",
       "      <td>0.541541</td>\n",
       "      <td>-0.872724</td>\n",
       "    </tr>\n",
       "    <tr>\n",
       "      <th>9</th>\n",
       "      <td>0.096761</td>\n",
       "      <td>0.124275</td>\n",
       "      <td>0.750491</td>\n",
       "    </tr>\n",
       "    <tr>\n",
       "      <th>10</th>\n",
       "      <td>0.694873</td>\n",
       "      <td>0.598207</td>\n",
       "      <td>-0.284160</td>\n",
       "    </tr>\n",
       "    <tr>\n",
       "      <th>11</th>\n",
       "      <td>-0.640910</td>\n",
       "      <td>0.438513</td>\n",
       "      <td>-0.327978</td>\n",
       "    </tr>\n",
       "    <tr>\n",
       "      <th>12</th>\n",
       "      <td>-0.461476</td>\n",
       "      <td>0.356090</td>\n",
       "      <td>-0.093909</td>\n",
       "    </tr>\n",
       "    <tr>\n",
       "      <th>13</th>\n",
       "      <td>0.774621</td>\n",
       "      <td>0.721841</td>\n",
       "      <td>-0.758234</td>\n",
       "    </tr>\n",
       "    <tr>\n",
       "      <th>14</th>\n",
       "      <td>-0.870186</td>\n",
       "      <td>0.057307</td>\n",
       "      <td>0.740879</td>\n",
       "    </tr>\n",
       "    <tr>\n",
       "      <th>15</th>\n",
       "      <td>1.223205</td>\n",
       "      <td>0.716690</td>\n",
       "      <td>-0.871876</td>\n",
       "    </tr>\n",
       "    <tr>\n",
       "      <th>16</th>\n",
       "      <td>-0.431571</td>\n",
       "      <td>-0.875102</td>\n",
       "      <td>-0.614344</td>\n",
       "    </tr>\n",
       "    <tr>\n",
       "      <th>17</th>\n",
       "      <td>-0.830312</td>\n",
       "      <td>-1.998113</td>\n",
       "      <td>0.896642</td>\n",
       "    </tr>\n",
       "    <tr>\n",
       "      <th>18</th>\n",
       "      <td>0.276195</td>\n",
       "      <td>0.670327</td>\n",
       "      <td>-0.795832</td>\n",
       "    </tr>\n",
       "    <tr>\n",
       "      <th>19</th>\n",
       "      <td>-0.890123</td>\n",
       "      <td>-1.740542</td>\n",
       "      <td>0.741727</td>\n",
       "    </tr>\n",
       "    <tr>\n",
       "      <th>20</th>\n",
       "      <td>1.003897</td>\n",
       "      <td>0.587904</td>\n",
       "      <td>-0.798094</td>\n",
       "    </tr>\n",
       "    <tr>\n",
       "      <th>21</th>\n",
       "      <td>-0.282043</td>\n",
       "      <td>-0.504199</td>\n",
       "      <td>-0.296599</td>\n",
       "    </tr>\n",
       "    <tr>\n",
       "      <th>22</th>\n",
       "      <td>1.781443</td>\n",
       "      <td>0.773355</td>\n",
       "      <td>-0.879226</td>\n",
       "    </tr>\n",
       "    <tr>\n",
       "      <th>23</th>\n",
       "      <td>-0.920029</td>\n",
       "      <td>-2.379319</td>\n",
       "      <td>2.302185</td>\n",
       "    </tr>\n",
       "    <tr>\n",
       "      <th>24</th>\n",
       "      <td>-0.890123</td>\n",
       "      <td>-2.142353</td>\n",
       "      <td>2.032780</td>\n",
       "    </tr>\n",
       "    <tr>\n",
       "      <th>25</th>\n",
       "      <td>-0.341854</td>\n",
       "      <td>0.438513</td>\n",
       "      <td>-0.404022</td>\n",
       "    </tr>\n",
       "    <tr>\n",
       "      <th>26</th>\n",
       "      <td>-0.680784</td>\n",
       "      <td>0.670327</td>\n",
       "      <td>-0.817882</td>\n",
       "    </tr>\n",
       "    <tr>\n",
       "      <th>27</th>\n",
       "      <td>-0.920029</td>\n",
       "      <td>-2.709011</td>\n",
       "      <td>3.063756</td>\n",
       "    </tr>\n",
       "    <tr>\n",
       "      <th>28</th>\n",
       "      <td>-0.750564</td>\n",
       "      <td>-0.998736</td>\n",
       "      <td>0.457622</td>\n",
       "    </tr>\n",
       "    <tr>\n",
       "      <th>29</th>\n",
       "      <td>-0.252137</td>\n",
       "      <td>0.000641</td>\n",
       "      <td>0.387798</td>\n",
       "    </tr>\n",
       "    <tr>\n",
       "      <th>...</th>\n",
       "      <td>...</td>\n",
       "      <td>...</td>\n",
       "      <td>...</td>\n",
       "    </tr>\n",
       "    <tr>\n",
       "      <th>170</th>\n",
       "      <td>1.522261</td>\n",
       "      <td>0.824870</td>\n",
       "      <td>-0.863961</td>\n",
       "    </tr>\n",
       "    <tr>\n",
       "      <th>171</th>\n",
       "      <td>-0.710690</td>\n",
       "      <td>-0.401170</td>\n",
       "      <td>-0.167974</td>\n",
       "    </tr>\n",
       "    <tr>\n",
       "      <th>172</th>\n",
       "      <td>-0.860218</td>\n",
       "      <td>-1.699331</td>\n",
       "      <td>1.575668</td>\n",
       "    </tr>\n",
       "    <tr>\n",
       "      <th>173</th>\n",
       "      <td>1.023834</td>\n",
       "      <td>0.696084</td>\n",
       "      <td>-0.840497</td>\n",
       "    </tr>\n",
       "    <tr>\n",
       "      <th>174</th>\n",
       "      <td>-0.810375</td>\n",
       "      <td>-2.255685</td>\n",
       "      <td>0.572395</td>\n",
       "    </tr>\n",
       "    <tr>\n",
       "      <th>175</th>\n",
       "      <td>2.798233</td>\n",
       "      <td>0.670327</td>\n",
       "      <td>-0.813076</td>\n",
       "    </tr>\n",
       "    <tr>\n",
       "      <th>176</th>\n",
       "      <td>-0.830312</td>\n",
       "      <td>-0.725710</td>\n",
       "      <td>0.920671</td>\n",
       "    </tr>\n",
       "    <tr>\n",
       "      <th>177</th>\n",
       "      <td>-0.581099</td>\n",
       "      <td>0.201547</td>\n",
       "      <td>-0.647419</td>\n",
       "    </tr>\n",
       "    <tr>\n",
       "      <th>178</th>\n",
       "      <td>-0.790438</td>\n",
       "      <td>-0.256930</td>\n",
       "      <td>0.932827</td>\n",
       "    </tr>\n",
       "    <tr>\n",
       "      <th>179</th>\n",
       "      <td>-0.830312</td>\n",
       "      <td>-0.380565</td>\n",
       "      <td>0.353592</td>\n",
       "    </tr>\n",
       "    <tr>\n",
       "      <th>180</th>\n",
       "      <td>-0.830312</td>\n",
       "      <td>-1.704482</td>\n",
       "      <td>1.570862</td>\n",
       "    </tr>\n",
       "    <tr>\n",
       "      <th>181</th>\n",
       "      <td>-0.900092</td>\n",
       "      <td>-2.472045</td>\n",
       "      <td>3.613026</td>\n",
       "    </tr>\n",
       "    <tr>\n",
       "      <th>182</th>\n",
       "      <td>-0.650879</td>\n",
       "      <td>0.201547</td>\n",
       "      <td>0.009556</td>\n",
       "    </tr>\n",
       "    <tr>\n",
       "      <th>183</th>\n",
       "      <td>-0.082672</td>\n",
       "      <td>0.804264</td>\n",
       "      <td>-0.561763</td>\n",
       "    </tr>\n",
       "    <tr>\n",
       "      <th>184</th>\n",
       "      <td>1.173362</td>\n",
       "      <td>-0.076630</td>\n",
       "      <td>-0.470737</td>\n",
       "    </tr>\n",
       "    <tr>\n",
       "      <th>185</th>\n",
       "      <td>-0.571130</td>\n",
       "      <td>-1.663271</td>\n",
       "      <td>0.179737</td>\n",
       "    </tr>\n",
       "    <tr>\n",
       "      <th>186</th>\n",
       "      <td>-0.750564</td>\n",
       "      <td>0.464270</td>\n",
       "      <td>-0.632436</td>\n",
       "    </tr>\n",
       "    <tr>\n",
       "      <th>187</th>\n",
       "      <td>-0.900092</td>\n",
       "      <td>-0.009662</td>\n",
       "      <td>1.656517</td>\n",
       "    </tr>\n",
       "    <tr>\n",
       "      <th>188</th>\n",
       "      <td>-0.301980</td>\n",
       "      <td>0.129427</td>\n",
       "      <td>0.163340</td>\n",
       "    </tr>\n",
       "    <tr>\n",
       "      <th>189</th>\n",
       "      <td>-0.471445</td>\n",
       "      <td>0.356090</td>\n",
       "      <td>-0.313278</td>\n",
       "    </tr>\n",
       "    <tr>\n",
       "      <th>190</th>\n",
       "      <td>2.618799</td>\n",
       "      <td>0.721841</td>\n",
       "      <td>-0.755690</td>\n",
       "    </tr>\n",
       "    <tr>\n",
       "      <th>191</th>\n",
       "      <td>-0.790438</td>\n",
       "      <td>0.711538</td>\n",
       "      <td>0.523772</td>\n",
       "    </tr>\n",
       "    <tr>\n",
       "      <th>192</th>\n",
       "      <td>-0.800407</td>\n",
       "      <td>0.788810</td>\n",
       "      <td>1.013111</td>\n",
       "    </tr>\n",
       "    <tr>\n",
       "      <th>193</th>\n",
       "      <td>-0.601036</td>\n",
       "      <td>-1.750845</td>\n",
       "      <td>-0.996826</td>\n",
       "    </tr>\n",
       "    <tr>\n",
       "      <th>194</th>\n",
       "      <td>1.791411</td>\n",
       "      <td>0.773355</td>\n",
       "      <td>-0.850957</td>\n",
       "    </tr>\n",
       "    <tr>\n",
       "      <th>195</th>\n",
       "      <td>-0.740595</td>\n",
       "      <td>-0.849345</td>\n",
       "      <td>-0.173911</td>\n",
       "    </tr>\n",
       "    <tr>\n",
       "      <th>196</th>\n",
       "      <td>0.336006</td>\n",
       "      <td>-0.421776</td>\n",
       "      <td>-0.445295</td>\n",
       "    </tr>\n",
       "    <tr>\n",
       "      <th>197</th>\n",
       "      <td>1.023834</td>\n",
       "      <td>0.773355</td>\n",
       "      <td>-0.549608</td>\n",
       "    </tr>\n",
       "    <tr>\n",
       "      <th>198</th>\n",
       "      <td>1.980813</td>\n",
       "      <td>0.721841</td>\n",
       "      <td>-0.844455</td>\n",
       "    </tr>\n",
       "    <tr>\n",
       "      <th>199</th>\n",
       "      <td>1.901065</td>\n",
       "      <td>0.490027</td>\n",
       "      <td>-0.912866</td>\n",
       "    </tr>\n",
       "  </tbody>\n",
       "</table>\n",
       "<p>200 rows × 3 columns</p>\n",
       "</div>"
      ],
      "text/plain": [
       "          GDP  Literacy  Infant Mortality\n",
       "0   -0.850249 -1.879631          1.655387\n",
       "1    2.130341  0.824870         -0.867918\n",
       "2   -0.820344 -2.245382          0.423699\n",
       "3   -0.630941  0.670327         -0.789047\n",
       "4    0.306100  0.721841         -0.659009\n",
       "5   -0.301980  0.773355         -0.711590\n",
       "6    2.000750  0.670327         -0.862547\n",
       "7    1.223205  0.773355         -0.820426\n",
       "8    0.964023  0.541541         -0.872724\n",
       "9    0.096761  0.124275          0.750491\n",
       "10   0.694873  0.598207         -0.284160\n",
       "11  -0.640910  0.438513         -0.327978\n",
       "12  -0.461476  0.356090         -0.093909\n",
       "13   0.774621  0.721841         -0.758234\n",
       "14  -0.870186  0.057307          0.740879\n",
       "15   1.223205  0.716690         -0.871876\n",
       "16  -0.431571 -0.875102         -0.614344\n",
       "17  -0.830312 -1.998113          0.896642\n",
       "18   0.276195  0.670327         -0.795832\n",
       "19  -0.890123 -1.740542          0.741727\n",
       "20   1.003897  0.587904         -0.798094\n",
       "21  -0.282043 -0.504199         -0.296599\n",
       "22   1.781443  0.773355         -0.879226\n",
       "23  -0.920029 -2.379319          2.302185\n",
       "24  -0.890123 -2.142353          2.032780\n",
       "25  -0.341854  0.438513         -0.404022\n",
       "26  -0.680784  0.670327         -0.817882\n",
       "27  -0.920029 -2.709011          3.063756\n",
       "28  -0.750564 -0.998736          0.457622\n",
       "29  -0.252137  0.000641          0.387798\n",
       "..        ...       ...               ...\n",
       "170  1.522261  0.824870         -0.863961\n",
       "171 -0.710690 -0.401170         -0.167974\n",
       "172 -0.860218 -1.699331          1.575668\n",
       "173  1.023834  0.696084         -0.840497\n",
       "174 -0.810375 -2.255685          0.572395\n",
       "175  2.798233  0.670327         -0.813076\n",
       "176 -0.830312 -0.725710          0.920671\n",
       "177 -0.581099  0.201547         -0.647419\n",
       "178 -0.790438 -0.256930          0.932827\n",
       "179 -0.830312 -0.380565          0.353592\n",
       "180 -0.830312 -1.704482          1.570862\n",
       "181 -0.900092 -2.472045          3.613026\n",
       "182 -0.650879  0.201547          0.009556\n",
       "183 -0.082672  0.804264         -0.561763\n",
       "184  1.173362 -0.076630         -0.470737\n",
       "185 -0.571130 -1.663271          0.179737\n",
       "186 -0.750564  0.464270         -0.632436\n",
       "187 -0.900092 -0.009662          1.656517\n",
       "188 -0.301980  0.129427          0.163340\n",
       "189 -0.471445  0.356090         -0.313278\n",
       "190  2.618799  0.721841         -0.755690\n",
       "191 -0.790438  0.711538          0.523772\n",
       "192 -0.800407  0.788810          1.013111\n",
       "193 -0.601036 -1.750845         -0.996826\n",
       "194  1.791411  0.773355         -0.850957\n",
       "195 -0.740595 -0.849345         -0.173911\n",
       "196  0.336006 -0.421776         -0.445295\n",
       "197  1.023834  0.773355         -0.549608\n",
       "198  1.980813  0.721841         -0.844455\n",
       "199  1.901065  0.490027         -0.912866\n",
       "\n",
       "[200 rows x 3 columns]"
      ]
     },
     "execution_count": 25,
     "metadata": {},
     "output_type": "execute_result"
    }
   ],
   "source": [
    "inputtrain"
   ]
  },
  {
   "cell_type": "code",
   "execution_count": 26,
   "metadata": {},
   "outputs": [
    {
     "data": {
      "text/html": [
       "<div>\n",
       "<style scoped>\n",
       "    .dataframe tbody tr th:only-of-type {\n",
       "        vertical-align: middle;\n",
       "    }\n",
       "\n",
       "    .dataframe tbody tr th {\n",
       "        vertical-align: top;\n",
       "    }\n",
       "\n",
       "    .dataframe thead th {\n",
       "        text-align: right;\n",
       "    }\n",
       "</style>\n",
       "<table border=\"1\" class=\"dataframe\">\n",
       "  <thead>\n",
       "    <tr style=\"text-align: right;\">\n",
       "      <th></th>\n",
       "      <th>GDP</th>\n",
       "      <th>Literacy</th>\n",
       "      <th>Infant Mortality</th>\n",
       "    </tr>\n",
       "  </thead>\n",
       "  <tbody>\n",
       "    <tr>\n",
       "      <th>200</th>\n",
       "      <td>0.714810</td>\n",
       "      <td>0.263364</td>\n",
       "      <td>-0.508617</td>\n",
       "    </tr>\n",
       "    <tr>\n",
       "      <th>201</th>\n",
       "      <td>-0.172389</td>\n",
       "      <td>0.309727</td>\n",
       "      <td>-0.753711</td>\n",
       "    </tr>\n",
       "    <tr>\n",
       "      <th>202</th>\n",
       "      <td>-0.810375</td>\n",
       "      <td>0.500330</td>\n",
       "      <td>-0.164299</td>\n",
       "    </tr>\n",
       "    <tr>\n",
       "      <th>203</th>\n",
       "      <td>0.146604</td>\n",
       "      <td>0.675478</td>\n",
       "      <td>-0.567700</td>\n",
       "    </tr>\n",
       "    <tr>\n",
       "      <th>204</th>\n",
       "      <td>0.924149</td>\n",
       "      <td>-0.025116</td>\n",
       "      <td>-0.715548</td>\n",
       "    </tr>\n",
       "    <tr>\n",
       "      <th>205</th>\n",
       "      <td>1.721632</td>\n",
       "      <td>0.773355</td>\n",
       "      <td>-0.843324</td>\n",
       "    </tr>\n",
       "    <tr>\n",
       "      <th>206</th>\n",
       "      <td>-0.700721</td>\n",
       "      <td>0.088215</td>\n",
       "      <td>1.409728</td>\n",
       "    </tr>\n",
       "    <tr>\n",
       "      <th>207</th>\n",
       "      <td>-0.860218</td>\n",
       "      <td>-2.219625</td>\n",
       "      <td>1.406053</td>\n",
       "    </tr>\n",
       "    <tr>\n",
       "      <th>208</th>\n",
       "      <td>-0.910060</td>\n",
       "      <td>-1.096613</td>\n",
       "      <td>1.923944</td>\n",
       "    </tr>\n",
       "    <tr>\n",
       "      <th>209</th>\n",
       "      <td>0.804527</td>\n",
       "      <td>0.716690</td>\n",
       "      <td>-0.797528</td>\n",
       "    </tr>\n",
       "    <tr>\n",
       "      <th>210</th>\n",
       "      <td>-0.790438</td>\n",
       "      <td>-2.178413</td>\n",
       "      <td>1.007175</td>\n",
       "    </tr>\n",
       "    <tr>\n",
       "      <th>211</th>\n",
       "      <td>-0.282043</td>\n",
       "      <td>0.773355</td>\n",
       "      <td>-0.783676</td>\n",
       "    </tr>\n",
       "    <tr>\n",
       "      <th>212</th>\n",
       "      <td>-0.571130</td>\n",
       "      <td>0.464270</td>\n",
       "      <td>-0.330522</td>\n",
       "    </tr>\n",
       "    <tr>\n",
       "      <th>213</th>\n",
       "      <td>-0.760532</td>\n",
       "      <td>-1.972356</td>\n",
       "      <td>1.050992</td>\n",
       "    </tr>\n",
       "    <tr>\n",
       "      <th>214</th>\n",
       "      <td>0.166541</td>\n",
       "      <td>0.804264</td>\n",
       "      <td>-0.802051</td>\n",
       "    </tr>\n",
       "    <tr>\n",
       "      <th>215</th>\n",
       "      <td>0.824464</td>\n",
       "      <td>0.479724</td>\n",
       "      <td>-0.854067</td>\n",
       "    </tr>\n",
       "    <tr>\n",
       "      <th>216</th>\n",
       "      <td>1.881128</td>\n",
       "      <td>0.773355</td>\n",
       "      <td>-0.854349</td>\n",
       "    </tr>\n",
       "    <tr>\n",
       "      <th>217</th>\n",
       "      <td>1.023834</td>\n",
       "      <td>0.773355</td>\n",
       "      <td>-0.863678</td>\n",
       "    </tr>\n",
       "    <tr>\n",
       "      <th>218</th>\n",
       "      <td>-0.571130</td>\n",
       "      <td>0.763053</td>\n",
       "      <td>-0.056594</td>\n",
       "    </tr>\n",
       "    <tr>\n",
       "      <th>219</th>\n",
       "      <td>-0.680784</td>\n",
       "      <td>0.618813</td>\n",
       "      <td>-0.579008</td>\n",
       "    </tr>\n",
       "    <tr>\n",
       "      <th>220</th>\n",
       "      <td>-0.900092</td>\n",
       "      <td>-2.126899</td>\n",
       "      <td>1.697790</td>\n",
       "    </tr>\n",
       "    <tr>\n",
       "      <th>221</th>\n",
       "      <td>4.522789</td>\n",
       "      <td>0.824870</td>\n",
       "      <td>-0.860851</td>\n",
       "    </tr>\n",
       "    <tr>\n",
       "      <th>222</th>\n",
       "      <td>-0.022861</td>\n",
       "      <td>0.752750</td>\n",
       "      <td>-0.309603</td>\n",
       "    </tr>\n",
       "    <tr>\n",
       "      <th>223</th>\n",
       "      <td>-0.870186</td>\n",
       "      <td>-1.364488</td>\n",
       "      <td>2.646221</td>\n",
       "    </tr>\n",
       "    <tr>\n",
       "      <th>224</th>\n",
       "      <td>-0.750564</td>\n",
       "      <td>-0.473290</td>\n",
       "      <td>0.457057</td>\n",
       "    </tr>\n",
       "  </tbody>\n",
       "</table>\n",
       "</div>"
      ],
      "text/plain": [
       "          GDP  Literacy  Infant Mortality\n",
       "200  0.714810  0.263364         -0.508617\n",
       "201 -0.172389  0.309727         -0.753711\n",
       "202 -0.810375  0.500330         -0.164299\n",
       "203  0.146604  0.675478         -0.567700\n",
       "204  0.924149 -0.025116         -0.715548\n",
       "205  1.721632  0.773355         -0.843324\n",
       "206 -0.700721  0.088215          1.409728\n",
       "207 -0.860218 -2.219625          1.406053\n",
       "208 -0.910060 -1.096613          1.923944\n",
       "209  0.804527  0.716690         -0.797528\n",
       "210 -0.790438 -2.178413          1.007175\n",
       "211 -0.282043  0.773355         -0.783676\n",
       "212 -0.571130  0.464270         -0.330522\n",
       "213 -0.760532 -1.972356          1.050992\n",
       "214  0.166541  0.804264         -0.802051\n",
       "215  0.824464  0.479724         -0.854067\n",
       "216  1.881128  0.773355         -0.854349\n",
       "217  1.023834  0.773355         -0.863678\n",
       "218 -0.571130  0.763053         -0.056594\n",
       "219 -0.680784  0.618813         -0.579008\n",
       "220 -0.900092 -2.126899          1.697790\n",
       "221  4.522789  0.824870         -0.860851\n",
       "222 -0.022861  0.752750         -0.309603\n",
       "223 -0.870186 -1.364488          2.646221\n",
       "224 -0.750564 -0.473290          0.457057"
      ]
     },
     "execution_count": 26,
     "metadata": {},
     "output_type": "execute_result"
    }
   ],
   "source": [
    "inputtest"
   ]
  },
  {
   "cell_type": "code",
   "execution_count": 27,
   "metadata": {},
   "outputs": [
    {
     "data": {
      "text/html": [
       "<div>\n",
       "<style scoped>\n",
       "    .dataframe tbody tr th:only-of-type {\n",
       "        vertical-align: middle;\n",
       "    }\n",
       "\n",
       "    .dataframe tbody tr th {\n",
       "        vertical-align: top;\n",
       "    }\n",
       "\n",
       "    .dataframe thead th {\n",
       "        text-align: right;\n",
       "    }\n",
       "</style>\n",
       "<table border=\"1\" class=\"dataframe\">\n",
       "  <thead>\n",
       "    <tr style=\"text-align: right;\">\n",
       "      <th></th>\n",
       "      <th>Development Index</th>\n",
       "    </tr>\n",
       "  </thead>\n",
       "  <tbody>\n",
       "    <tr>\n",
       "      <th>0</th>\n",
       "      <td>2</td>\n",
       "    </tr>\n",
       "    <tr>\n",
       "      <th>1</th>\n",
       "      <td>4</td>\n",
       "    </tr>\n",
       "    <tr>\n",
       "      <th>2</th>\n",
       "      <td>2</td>\n",
       "    </tr>\n",
       "    <tr>\n",
       "      <th>3</th>\n",
       "      <td>4</td>\n",
       "    </tr>\n",
       "    <tr>\n",
       "      <th>4</th>\n",
       "      <td>3</td>\n",
       "    </tr>\n",
       "    <tr>\n",
       "      <th>5</th>\n",
       "      <td>3</td>\n",
       "    </tr>\n",
       "    <tr>\n",
       "      <th>6</th>\n",
       "      <td>4</td>\n",
       "    </tr>\n",
       "    <tr>\n",
       "      <th>7</th>\n",
       "      <td>4</td>\n",
       "    </tr>\n",
       "    <tr>\n",
       "      <th>8</th>\n",
       "      <td>4</td>\n",
       "    </tr>\n",
       "    <tr>\n",
       "      <th>9</th>\n",
       "      <td>2</td>\n",
       "    </tr>\n",
       "    <tr>\n",
       "      <th>10</th>\n",
       "      <td>3</td>\n",
       "    </tr>\n",
       "    <tr>\n",
       "      <th>11</th>\n",
       "      <td>3</td>\n",
       "    </tr>\n",
       "    <tr>\n",
       "      <th>12</th>\n",
       "      <td>3</td>\n",
       "    </tr>\n",
       "    <tr>\n",
       "      <th>13</th>\n",
       "      <td>4</td>\n",
       "    </tr>\n",
       "    <tr>\n",
       "      <th>14</th>\n",
       "      <td>2</td>\n",
       "    </tr>\n",
       "    <tr>\n",
       "      <th>15</th>\n",
       "      <td>4</td>\n",
       "    </tr>\n",
       "    <tr>\n",
       "      <th>16</th>\n",
       "      <td>3</td>\n",
       "    </tr>\n",
       "    <tr>\n",
       "      <th>17</th>\n",
       "      <td>2</td>\n",
       "    </tr>\n",
       "    <tr>\n",
       "      <th>18</th>\n",
       "      <td>4</td>\n",
       "    </tr>\n",
       "    <tr>\n",
       "      <th>19</th>\n",
       "      <td>2</td>\n",
       "    </tr>\n",
       "    <tr>\n",
       "      <th>20</th>\n",
       "      <td>4</td>\n",
       "    </tr>\n",
       "    <tr>\n",
       "      <th>21</th>\n",
       "      <td>3</td>\n",
       "    </tr>\n",
       "    <tr>\n",
       "      <th>22</th>\n",
       "      <td>4</td>\n",
       "    </tr>\n",
       "    <tr>\n",
       "      <th>23</th>\n",
       "      <td>1</td>\n",
       "    </tr>\n",
       "    <tr>\n",
       "      <th>24</th>\n",
       "      <td>1</td>\n",
       "    </tr>\n",
       "    <tr>\n",
       "      <th>25</th>\n",
       "      <td>3</td>\n",
       "    </tr>\n",
       "    <tr>\n",
       "      <th>26</th>\n",
       "      <td>4</td>\n",
       "    </tr>\n",
       "    <tr>\n",
       "      <th>27</th>\n",
       "      <td>1</td>\n",
       "    </tr>\n",
       "    <tr>\n",
       "      <th>28</th>\n",
       "      <td>2</td>\n",
       "    </tr>\n",
       "    <tr>\n",
       "      <th>29</th>\n",
       "      <td>3</td>\n",
       "    </tr>\n",
       "    <tr>\n",
       "      <th>...</th>\n",
       "      <td>...</td>\n",
       "    </tr>\n",
       "    <tr>\n",
       "      <th>170</th>\n",
       "      <td>4</td>\n",
       "    </tr>\n",
       "    <tr>\n",
       "      <th>171</th>\n",
       "      <td>3</td>\n",
       "    </tr>\n",
       "    <tr>\n",
       "      <th>172</th>\n",
       "      <td>2</td>\n",
       "    </tr>\n",
       "    <tr>\n",
       "      <th>173</th>\n",
       "      <td>4</td>\n",
       "    </tr>\n",
       "    <tr>\n",
       "      <th>174</th>\n",
       "      <td>2</td>\n",
       "    </tr>\n",
       "    <tr>\n",
       "      <th>175</th>\n",
       "      <td>4</td>\n",
       "    </tr>\n",
       "    <tr>\n",
       "      <th>176</th>\n",
       "      <td>2</td>\n",
       "    </tr>\n",
       "    <tr>\n",
       "      <th>177</th>\n",
       "      <td>3</td>\n",
       "    </tr>\n",
       "    <tr>\n",
       "      <th>178</th>\n",
       "      <td>2</td>\n",
       "    </tr>\n",
       "    <tr>\n",
       "      <th>179</th>\n",
       "      <td>3</td>\n",
       "    </tr>\n",
       "    <tr>\n",
       "      <th>180</th>\n",
       "      <td>2</td>\n",
       "    </tr>\n",
       "    <tr>\n",
       "      <th>181</th>\n",
       "      <td>1</td>\n",
       "    </tr>\n",
       "    <tr>\n",
       "      <th>182</th>\n",
       "      <td>3</td>\n",
       "    </tr>\n",
       "    <tr>\n",
       "      <th>183</th>\n",
       "      <td>3</td>\n",
       "    </tr>\n",
       "    <tr>\n",
       "      <th>184</th>\n",
       "      <td>3</td>\n",
       "    </tr>\n",
       "    <tr>\n",
       "      <th>185</th>\n",
       "      <td>3</td>\n",
       "    </tr>\n",
       "    <tr>\n",
       "      <th>186</th>\n",
       "      <td>3</td>\n",
       "    </tr>\n",
       "    <tr>\n",
       "      <th>187</th>\n",
       "      <td>2</td>\n",
       "    </tr>\n",
       "    <tr>\n",
       "      <th>188</th>\n",
       "      <td>3</td>\n",
       "    </tr>\n",
       "    <tr>\n",
       "      <th>189</th>\n",
       "      <td>3</td>\n",
       "    </tr>\n",
       "    <tr>\n",
       "      <th>190</th>\n",
       "      <td>4</td>\n",
       "    </tr>\n",
       "    <tr>\n",
       "      <th>191</th>\n",
       "      <td>2</td>\n",
       "    </tr>\n",
       "    <tr>\n",
       "      <th>192</th>\n",
       "      <td>2</td>\n",
       "    </tr>\n",
       "    <tr>\n",
       "      <th>193</th>\n",
       "      <td>4</td>\n",
       "    </tr>\n",
       "    <tr>\n",
       "      <th>194</th>\n",
       "      <td>4</td>\n",
       "    </tr>\n",
       "    <tr>\n",
       "      <th>195</th>\n",
       "      <td>3</td>\n",
       "    </tr>\n",
       "    <tr>\n",
       "      <th>196</th>\n",
       "      <td>3</td>\n",
       "    </tr>\n",
       "    <tr>\n",
       "      <th>197</th>\n",
       "      <td>3</td>\n",
       "    </tr>\n",
       "    <tr>\n",
       "      <th>198</th>\n",
       "      <td>4</td>\n",
       "    </tr>\n",
       "    <tr>\n",
       "      <th>199</th>\n",
       "      <td>4</td>\n",
       "    </tr>\n",
       "  </tbody>\n",
       "</table>\n",
       "<p>200 rows × 1 columns</p>\n",
       "</div>"
      ],
      "text/plain": [
       "     Development Index\n",
       "0                    2\n",
       "1                    4\n",
       "2                    2\n",
       "3                    4\n",
       "4                    3\n",
       "5                    3\n",
       "6                    4\n",
       "7                    4\n",
       "8                    4\n",
       "9                    2\n",
       "10                   3\n",
       "11                   3\n",
       "12                   3\n",
       "13                   4\n",
       "14                   2\n",
       "15                   4\n",
       "16                   3\n",
       "17                   2\n",
       "18                   4\n",
       "19                   2\n",
       "20                   4\n",
       "21                   3\n",
       "22                   4\n",
       "23                   1\n",
       "24                   1\n",
       "25                   3\n",
       "26                   4\n",
       "27                   1\n",
       "28                   2\n",
       "29                   3\n",
       "..                 ...\n",
       "170                  4\n",
       "171                  3\n",
       "172                  2\n",
       "173                  4\n",
       "174                  2\n",
       "175                  4\n",
       "176                  2\n",
       "177                  3\n",
       "178                  2\n",
       "179                  3\n",
       "180                  2\n",
       "181                  1\n",
       "182                  3\n",
       "183                  3\n",
       "184                  3\n",
       "185                  3\n",
       "186                  3\n",
       "187                  2\n",
       "188                  3\n",
       "189                  3\n",
       "190                  4\n",
       "191                  2\n",
       "192                  2\n",
       "193                  4\n",
       "194                  4\n",
       "195                  3\n",
       "196                  3\n",
       "197                  3\n",
       "198                  4\n",
       "199                  4\n",
       "\n",
       "[200 rows x 1 columns]"
      ]
     },
     "execution_count": 27,
     "metadata": {},
     "output_type": "execute_result"
    }
   ],
   "source": [
    "outputtrain"
   ]
  },
  {
   "cell_type": "code",
   "execution_count": 28,
   "metadata": {},
   "outputs": [
    {
     "data": {
      "text/html": [
       "<div>\n",
       "<style scoped>\n",
       "    .dataframe tbody tr th:only-of-type {\n",
       "        vertical-align: middle;\n",
       "    }\n",
       "\n",
       "    .dataframe tbody tr th {\n",
       "        vertical-align: top;\n",
       "    }\n",
       "\n",
       "    .dataframe thead th {\n",
       "        text-align: right;\n",
       "    }\n",
       "</style>\n",
       "<table border=\"1\" class=\"dataframe\">\n",
       "  <thead>\n",
       "    <tr style=\"text-align: right;\">\n",
       "      <th></th>\n",
       "      <th>Development Index</th>\n",
       "    </tr>\n",
       "  </thead>\n",
       "  <tbody>\n",
       "    <tr>\n",
       "      <th>200</th>\n",
       "      <td>3</td>\n",
       "    </tr>\n",
       "    <tr>\n",
       "      <th>201</th>\n",
       "      <td>4</td>\n",
       "    </tr>\n",
       "    <tr>\n",
       "      <th>202</th>\n",
       "      <td>3</td>\n",
       "    </tr>\n",
       "    <tr>\n",
       "      <th>203</th>\n",
       "      <td>3</td>\n",
       "    </tr>\n",
       "    <tr>\n",
       "      <th>204</th>\n",
       "      <td>4</td>\n",
       "    </tr>\n",
       "    <tr>\n",
       "      <th>205</th>\n",
       "      <td>4</td>\n",
       "    </tr>\n",
       "    <tr>\n",
       "      <th>206</th>\n",
       "      <td>2</td>\n",
       "    </tr>\n",
       "    <tr>\n",
       "      <th>207</th>\n",
       "      <td>2</td>\n",
       "    </tr>\n",
       "    <tr>\n",
       "      <th>208</th>\n",
       "      <td>1</td>\n",
       "    </tr>\n",
       "    <tr>\n",
       "      <th>209</th>\n",
       "      <td>4</td>\n",
       "    </tr>\n",
       "    <tr>\n",
       "      <th>210</th>\n",
       "      <td>2</td>\n",
       "    </tr>\n",
       "    <tr>\n",
       "      <th>211</th>\n",
       "      <td>4</td>\n",
       "    </tr>\n",
       "    <tr>\n",
       "      <th>212</th>\n",
       "      <td>3</td>\n",
       "    </tr>\n",
       "    <tr>\n",
       "      <th>213</th>\n",
       "      <td>2</td>\n",
       "    </tr>\n",
       "    <tr>\n",
       "      <th>214</th>\n",
       "      <td>4</td>\n",
       "    </tr>\n",
       "    <tr>\n",
       "      <th>215</th>\n",
       "      <td>4</td>\n",
       "    </tr>\n",
       "    <tr>\n",
       "      <th>216</th>\n",
       "      <td>4</td>\n",
       "    </tr>\n",
       "    <tr>\n",
       "      <th>217</th>\n",
       "      <td>4</td>\n",
       "    </tr>\n",
       "    <tr>\n",
       "      <th>218</th>\n",
       "      <td>3</td>\n",
       "    </tr>\n",
       "    <tr>\n",
       "      <th>219</th>\n",
       "      <td>3</td>\n",
       "    </tr>\n",
       "    <tr>\n",
       "      <th>220</th>\n",
       "      <td>2</td>\n",
       "    </tr>\n",
       "    <tr>\n",
       "      <th>221</th>\n",
       "      <td>4</td>\n",
       "    </tr>\n",
       "    <tr>\n",
       "      <th>222</th>\n",
       "      <td>3</td>\n",
       "    </tr>\n",
       "    <tr>\n",
       "      <th>223</th>\n",
       "      <td>1</td>\n",
       "    </tr>\n",
       "    <tr>\n",
       "      <th>224</th>\n",
       "      <td>2</td>\n",
       "    </tr>\n",
       "  </tbody>\n",
       "</table>\n",
       "</div>"
      ],
      "text/plain": [
       "     Development Index\n",
       "200                  3\n",
       "201                  4\n",
       "202                  3\n",
       "203                  3\n",
       "204                  4\n",
       "205                  4\n",
       "206                  2\n",
       "207                  2\n",
       "208                  1\n",
       "209                  4\n",
       "210                  2\n",
       "211                  4\n",
       "212                  3\n",
       "213                  2\n",
       "214                  4\n",
       "215                  4\n",
       "216                  4\n",
       "217                  4\n",
       "218                  3\n",
       "219                  3\n",
       "220                  2\n",
       "221                  4\n",
       "222                  3\n",
       "223                  1\n",
       "224                  2"
      ]
     },
     "execution_count": 28,
     "metadata": {},
     "output_type": "execute_result"
    }
   ],
   "source": [
    "outputtest"
   ]
  },
  {
   "cell_type": "markdown",
   "metadata": {},
   "source": [
    "# Fitting the Model using K-Nearest Neighbors Classifier"
   ]
  },
  {
   "cell_type": "code",
   "execution_count": 29,
   "metadata": {},
   "outputs": [],
   "source": [
    "from sklearn.neighbors import KNeighborsClassifier"
   ]
  },
  {
   "cell_type": "code",
   "execution_count": 43,
   "metadata": {},
   "outputs": [],
   "source": [
    "teacher=KNeighborsClassifier(n_neighbors=10)"
   ]
  },
  {
   "cell_type": "code",
   "execution_count": 44,
   "metadata": {},
   "outputs": [
    {
     "name": "stderr",
     "output_type": "stream",
     "text": [
      "C:\\Users\\PareeKatti\\Anaconda3\\lib\\site-packages\\ipykernel_launcher.py:1: DataConversionWarning: A column-vector y was passed when a 1d array was expected. Please change the shape of y to (n_samples, ), for example using ravel().\n",
      "  \"\"\"Entry point for launching an IPython kernel.\n"
     ]
    }
   ],
   "source": [
    "learnerknn=teacher.fit(inputtrain,outputtrain)"
   ]
  },
  {
   "cell_type": "code",
   "execution_count": 45,
   "metadata": {},
   "outputs": [],
   "source": [
    "predictedoutput=learnerknn.predict(inputtest)"
   ]
  },
  {
   "cell_type": "code",
   "execution_count": 46,
   "metadata": {},
   "outputs": [
    {
     "data": {
      "text/plain": [
       "array([4, 3, 3, 4, 4, 4, 2, 2, 2, 4, 2, 3, 3, 2, 4, 4, 4, 4, 3, 3, 2, 4,\n",
       "       3, 1, 2], dtype=int64)"
      ]
     },
     "execution_count": 46,
     "metadata": {},
     "output_type": "execute_result"
    }
   ],
   "source": [
    "predictedoutput"
   ]
  },
  {
   "cell_type": "code",
   "execution_count": 47,
   "metadata": {},
   "outputs": [],
   "source": [
    "from sklearn.metrics import accuracy_score"
   ]
  },
  {
   "cell_type": "code",
   "execution_count": 48,
   "metadata": {},
   "outputs": [
    {
     "data": {
      "text/plain": [
       "0.8"
      ]
     },
     "execution_count": 48,
     "metadata": {},
     "output_type": "execute_result"
    }
   ],
   "source": [
    "accuracy_score(outputtest,predictedoutput)"
   ]
  },
  {
   "cell_type": "markdown",
   "metadata": {},
   "source": [
    "# SVM"
   ]
  },
  {
   "cell_type": "code",
   "execution_count": 49,
   "metadata": {},
   "outputs": [],
   "source": [
    "from sklearn.svm import SVC"
   ]
  },
  {
   "cell_type": "code",
   "execution_count": 50,
   "metadata": {},
   "outputs": [],
   "source": [
    "teacher=SVC(kernel='linear',degree=3)"
   ]
  },
  {
   "cell_type": "code",
   "execution_count": 51,
   "metadata": {
    "scrolled": false
   },
   "outputs": [
    {
     "name": "stderr",
     "output_type": "stream",
     "text": [
      "C:\\Users\\PareeKatti\\Anaconda3\\lib\\site-packages\\sklearn\\utils\\validation.py:578: DataConversionWarning: A column-vector y was passed when a 1d array was expected. Please change the shape of y to (n_samples, ), for example using ravel().\n",
      "  y = column_or_1d(y, warn=True)\n"
     ]
    }
   ],
   "source": [
    "learnersvm=teacher.fit(inputtrain,outputtrain)"
   ]
  },
  {
   "cell_type": "code",
   "execution_count": 53,
   "metadata": {},
   "outputs": [],
   "source": [
    "predictedoutput1=learnersvm.predict(inputtest)"
   ]
  },
  {
   "cell_type": "code",
   "execution_count": 54,
   "metadata": {},
   "outputs": [
    {
     "data": {
      "text/plain": [
       "array([3, 3, 3, 3, 3, 4, 2, 2, 2, 4, 2, 4, 3, 2, 4, 4, 4, 4, 3, 3, 2, 4,\n",
       "       3, 1, 2], dtype=int64)"
      ]
     },
     "execution_count": 54,
     "metadata": {},
     "output_type": "execute_result"
    }
   ],
   "source": [
    "predictedoutput1"
   ]
  },
  {
   "cell_type": "code",
   "execution_count": 55,
   "metadata": {},
   "outputs": [],
   "source": [
    "from sklearn.metrics import accuracy_score"
   ]
  },
  {
   "cell_type": "code",
   "execution_count": 56,
   "metadata": {},
   "outputs": [
    {
     "data": {
      "text/plain": [
       "0.88"
      ]
     },
     "execution_count": 56,
     "metadata": {},
     "output_type": "execute_result"
    }
   ],
   "source": [
    "accuracy_score(outputtest,predictedoutput1)"
   ]
  },
  {
   "cell_type": "markdown",
   "metadata": {},
   "source": [
    "# Random Forest Classifier"
   ]
  },
  {
   "cell_type": "code",
   "execution_count": 57,
   "metadata": {},
   "outputs": [],
   "source": [
    "from sklearn.ensemble import RandomForestClassifier"
   ]
  },
  {
   "cell_type": "code",
   "execution_count": 58,
   "metadata": {},
   "outputs": [],
   "source": [
    "teacher=RandomForestClassifier()"
   ]
  },
  {
   "cell_type": "code",
   "execution_count": 59,
   "metadata": {},
   "outputs": [
    {
     "name": "stderr",
     "output_type": "stream",
     "text": [
      "C:\\Users\\PareeKatti\\Anaconda3\\lib\\site-packages\\ipykernel_launcher.py:1: DataConversionWarning: A column-vector y was passed when a 1d array was expected. Please change the shape of y to (n_samples,), for example using ravel().\n",
      "  \"\"\"Entry point for launching an IPython kernel.\n"
     ]
    }
   ],
   "source": [
    "learnerforest=teacher.fit(inputtrain,outputtrain)"
   ]
  },
  {
   "cell_type": "code",
   "execution_count": 60,
   "metadata": {},
   "outputs": [],
   "source": [
    "predictedoutput2=learnerforest.predict(inputtest)"
   ]
  },
  {
   "cell_type": "code",
   "execution_count": 61,
   "metadata": {},
   "outputs": [
    {
     "data": {
      "text/plain": [
       "array([3, 4, 3, 3, 3, 4, 2, 2, 1, 4, 2, 4, 3, 2, 4, 4, 4, 4, 3, 3, 2, 4,\n",
       "       3, 1, 2], dtype=int64)"
      ]
     },
     "execution_count": 61,
     "metadata": {},
     "output_type": "execute_result"
    }
   ],
   "source": [
    "predictedoutput2"
   ]
  },
  {
   "cell_type": "code",
   "execution_count": 62,
   "metadata": {},
   "outputs": [],
   "source": [
    "from sklearn.metrics import accuracy_score"
   ]
  },
  {
   "cell_type": "code",
   "execution_count": 63,
   "metadata": {},
   "outputs": [
    {
     "data": {
      "text/plain": [
       "0.96"
      ]
     },
     "execution_count": 63,
     "metadata": {},
     "output_type": "execute_result"
    }
   ],
   "source": [
    "accuracy_score(outputtest,predictedoutput2)"
   ]
  },
  {
   "cell_type": "code",
   "execution_count": 64,
   "metadata": {},
   "outputs": [
    {
     "data": {
      "image/png": "[encoded data removed]",
      "text/plain": [
       "<matplotlib.figure.Figure at 0x23c4ad10128>"
      ]
     },
     "metadata": {
      "needs_background": "light"
     },
     "output_type": "display_data"
    }
   ],
   "source": [
    "plt.plot(inputtest,predictedoutput2,'go')\n",
    "plt.plot(inputtest,outputtest,'ro')\n",
    "plt.show()"
   ]
  },
  {
   "cell_type": "code",
   "execution_count": 65,
   "metadata": {},
   "outputs": [
    {
     "data": {
      "image/png": "[encoded data removed]",
      "text/plain": [
       "<matplotlib.figure.Figure at 0x23c4ad6dd68>"
      ]
     },
     "metadata": {
      "needs_background": "light"
     },
     "output_type": "display_data"
    }
   ],
   "source": [
    "plt.plot(inputtest,predictedoutput1,'bo')\n",
    "plt.plot(inputtest,outputtest,'ro')\n",
    "plt.show()"
   ]
  },
  {
   "cell_type": "code",
   "execution_count": 66,
   "metadata": {},
   "outputs": [
    {
     "data": {
      "image/png": "[encoded data removed]",
      "text/plain": [
       "<matplotlib.figure.Figure at 0x23c4add3e48>"
      ]
     },
     "metadata": {
      "needs_background": "light"
     },
     "output_type": "display_data"
    }
   ],
   "source": [
    "plt.plot(inputtest,predictedoutput,'go')\n",
    "plt.plot(inputtest,outputtest,'ro')\n",
    "plt.show()"
   ]
  },
  {
   "cell_type": "markdown",
   "metadata": {},
   "source": [
    "# Decision Tree Classifier"
   ]
  },
  {
   "cell_type": "code",
   "execution_count": 67,
   "metadata": {},
   "outputs": [],
   "source": [
    "from sklearn.tree import DecisionTreeClassifier"
   ]
  },
  {
   "cell_type": "code",
   "execution_count": 68,
   "metadata": {},
   "outputs": [],
   "source": [
    "teacher=DecisionTreeClassifier()"
   ]
  },
  {
   "cell_type": "code",
   "execution_count": 69,
   "metadata": {},
   "outputs": [],
   "source": [
    "learner=teacher.fit(inputtrain,outputtrain)"
   ]
  },
  {
   "cell_type": "code",
   "execution_count": 70,
   "metadata": {},
   "outputs": [],
   "source": [
    "predictedoutput4=learner.predict(inputtest)"
   ]
  },
  {
   "cell_type": "code",
   "execution_count": 71,
   "metadata": {},
   "outputs": [
    {
     "data": {
      "text/plain": [
       "array([3, 4, 3, 3, 4, 4, 2, 2, 1, 4, 2, 4, 3, 2, 4, 4, 4, 4, 3, 3, 2, 4,\n",
       "       3, 1, 2], dtype=int64)"
      ]
     },
     "execution_count": 71,
     "metadata": {},
     "output_type": "execute_result"
    }
   ],
   "source": [
    "predictedoutput4"
   ]
  },
  {
   "cell_type": "code",
   "execution_count": 72,
   "metadata": {},
   "outputs": [
    {
     "data": {
      "text/plain": [
       "1.0"
      ]
     },
     "execution_count": 72,
     "metadata": {},
     "output_type": "execute_result"
    }
   ],
   "source": [
    "accuracy_score(outputtest,predictedoutput4)"
   ]
  },
  {
   "cell_type": "code",
   "execution_count": 73,
   "metadata": {},
   "outputs": [
    {
     "data": {
      "image/png": "[encoded data removed]",
      "text/plain": [
       "<matplotlib.figure.Figure at 0x23c4ae2ebe0>"
      ]
     },
     "metadata": {
      "needs_background": "light"
     },
     "output_type": "display_data"
    }
   ],
   "source": [
    "plt.plot(inputtest,predictedoutput4,'go')\n",
    "plt.plot(inputtest,outputtest,'ro')\n",
    "plt.show()"
   ]
  },
  {
   "cell_type": "code",
   "execution_count": 74,
   "metadata": {},
   "outputs": [
    {
     "name": "stdout",
     "output_type": "stream",
     "text": [
      "High Income\n"
     ]
    }
   ],
   "source": [
    "x=learnerforest.predict(sc.transform([[23000,97,5]]))\n",
    "x=x[0]\n",
    "print(names[x])"
   ]
  },
  {
   "cell_type": "code",
   "execution_count": 75,
   "metadata": {},
   "outputs": [
    {
     "name": "stdout",
     "output_type": "stream",
     "text": [
      "Low Income\n"
     ]
    }
   ],
   "source": [
    "x=learnerknn.predict(sc.transform([[400,34,289]]))\n",
    "x=x[0]\n",
    "print(names[x])"
   ]
  },
  {
   "cell_type": "code",
   "execution_count": 76,
   "metadata": {},
   "outputs": [
    {
     "name": "stdout",
     "output_type": "stream",
     "text": [
      "Lower Middle Income\n"
     ]
    }
   ],
   "source": [
    "x=learnerforest.predict(sc.transform([[2300,77,52]]))\n",
    "x=x[0]\n",
    "print(names[x])"
   ]
  },
  {
   "cell_type": "code",
   "execution_count": 77,
   "metadata": {},
   "outputs": [
    {
     "name": "stdout",
     "output_type": "stream",
     "text": [
      "Upper Middle Income\n"
     ]
    }
   ],
   "source": [
    "x=learnerforest.predict(sc.transform([[13000,87,15]]))\n",
    "x=x[0]\n",
    "print(names[x])"
   ]
  },
  {
   "cell_type": "code",
   "execution_count": null,
   "metadata": {},
   "outputs": [],
   "source": []
  }
 ],
 "metadata": {
  "kernelspec": {
   "display_name": "Python 3",
   "language": "python",
   "name": "python3"
  },
  "language_info": {
   "codemirror_mode": {
    "name": "ipython",
    "version": 3
   },
   "file_extension": ".py",
   "mimetype": "text/x-python",
   "name": "python",
   "nbconvert_exporter": "python",
   "pygments_lexer": "ipython3",
   "version": "3.6.4"
  }
 },
 "nbformat": 4,
 "nbformat_minor": 2
}
